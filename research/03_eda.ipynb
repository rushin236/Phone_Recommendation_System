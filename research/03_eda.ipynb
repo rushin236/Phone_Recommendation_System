{
 "cells": [
  {
   "cell_type": "markdown",
   "metadata": {},
   "source": [
    "### Phone Recommendation System\n"
   ]
  },
  {
   "cell_type": "code",
   "execution_count": 1,
   "metadata": {},
   "outputs": [],
   "source": [
    "import os"
   ]
  },
  {
   "cell_type": "code",
   "execution_count": 2,
   "metadata": {},
   "outputs": [
    {
     "data": {
      "text/plain": [
       "'d:\\\\Imarticus_Learning\\\\12_Projects\\\\Phone_Recommendation_System\\\\research'"
      ]
     },
     "execution_count": 2,
     "metadata": {},
     "output_type": "execute_result"
    }
   ],
   "source": [
    "%pwd"
   ]
  },
  {
   "cell_type": "code",
   "execution_count": 3,
   "metadata": {},
   "outputs": [],
   "source": [
    "os.chdir(\"../\")"
   ]
  },
  {
   "cell_type": "code",
   "execution_count": 4,
   "metadata": {},
   "outputs": [
    {
     "data": {
      "text/plain": [
       "'d:\\\\Imarticus_Learning\\\\12_Projects\\\\Phone_Recommendation_System'"
      ]
     },
     "execution_count": 4,
     "metadata": {},
     "output_type": "execute_result"
    }
   ],
   "source": [
    "%pwd"
   ]
  },
  {
   "cell_type": "code",
   "execution_count": 5,
   "metadata": {},
   "outputs": [],
   "source": [
    "from dataclasses import dataclass\n",
    "from pathlib import Path\n",
    "\n",
    "\n",
    "@dataclass(frozen=True)\n",
    "class EDAConfig:\n",
    "    root_dir: Path\n",
    "    local_data_file: str\n",
    "    STATUS_FILE_PATH: Path"
   ]
  },
  {
   "cell_type": "code",
   "execution_count": 6,
   "metadata": {},
   "outputs": [],
   "source": [
    "from phone_recommender.constants import *\n",
    "from phone_recommender.utils.common import read_yaml, create_directories"
   ]
  },
  {
   "cell_type": "code",
   "execution_count": 7,
   "metadata": {},
   "outputs": [],
   "source": [
    "class ConfigurationManager:\n",
    "    def __init__(self, config_filepath=CONFIG_FILE_PATH, params_filepath=PARAMS_FILE_PATH) -> None:\n",
    "        self.config = read_yaml(config_filepath)\n",
    "        self.params = read_yaml(params_filepath)\n",
    "\n",
    "    def get_eda_config(self) -> EDAConfig:\n",
    "        config = self.config.eda\n",
    "\n",
    "        eda_config = EDAConfig(\n",
    "            root_dir=config.root_dir, local_data_file=config.local_data_file, STATUS_FILE_PATH=config.STATUS_FILE_PATH\n",
    "        )\n",
    "\n",
    "        return eda_config"
   ]
  },
  {
   "cell_type": "markdown",
   "metadata": {},
   "source": [
    "#### Importing Libraries\n"
   ]
  },
  {
   "cell_type": "code",
   "execution_count": 8,
   "metadata": {},
   "outputs": [],
   "source": [
    "from phone_recommender.logging import logger\n",
    "import pandas as pd\n",
    "import numpy as np\n",
    "import matplotlib.pyplot as plt\n",
    "import seaborn as sns\n",
    "import re"
   ]
  },
  {
   "cell_type": "code",
   "execution_count": 9,
   "metadata": {},
   "outputs": [],
   "source": [
    "class EDA:\n",
    "    def __init__(self, config: EDAConfig) -> None:\n",
    "        self.config = config\n",
    "\n",
    "        create_directories([self.config.root_dir])\n",
    "\n",
    "    def get_data(self) -> pd.DataFrame:\n",
    "        data_loading_status = None\n",
    "\n",
    "        df = pd.read_csv(self.config.local_data_file)\n",
    "\n",
    "        if not os.path.exists(self.config.STATUS_FILE_PATH) or len(df) != 0:\n",
    "            data_loading_status = True\n",
    "            with open(self.config.STATUS_FILE_PATH, \"w\") as f:\n",
    "                f.write(f\"Data Loading Status: {data_loading_status}\")\n",
    "                logger.info(f\"Data Loading in DataFrame Complete\")\n",
    "\n",
    "                return df\n",
    "\n",
    "        else:\n",
    "            data_loading_status = False\n",
    "            with open(self.config.STATUS_FILE_PATH, \"w\") as f:\n",
    "                f.write(f\"Data Loading Status: {data_loading_status}\")\n",
    "                logger.info(f\"Data Loading Failed\")\n",
    "\n",
    "    def data_preprocessing(self):\n",
    "        data_processing_status = None\n",
    "\n",
    "        if os.path.exists(self.config.STATUS_FILE_PATH):\n",
    "            data_processing_status = True\n",
    "            with open(self.config.STATUS_FILE_PATH, \"w+\") as f:\n",
    "                f.write(f\"Data Preprocessing Status: {data_processing_status}\")\n",
    "                logger.info(f\"Data Preprocessing Complete.\")\n",
    "        else:\n",
    "            logger.info(f\"get_data step not complete.\")"
   ]
  },
  {
   "cell_type": "markdown",
   "metadata": {},
   "source": [
    "#### Step-1 Data Gathering\n"
   ]
  },
  {
   "cell_type": "code",
   "execution_count": 10,
   "metadata": {},
   "outputs": [
    {
     "name": "stdout",
     "output_type": "stream",
     "text": [
      "[2023-12-01 21:17:45,046: INFO: common: yaml file: config\\config.yaml loads successfully]\n",
      "[2023-12-01 21:17:45,049: INFO: common: yaml file: params.yaml loads successfully]\n",
      "[2023-12-01 21:17:45,050: INFO: common: created directory at : artifacts/eda]\n",
      "[2023-12-01 21:17:45,116: INFO: 3629236120: Data Loading in DataFrame Complete]\n"
     ]
    }
   ],
   "source": [
    "try:\n",
    "    config = ConfigurationManager()\n",
    "    eda_config = config.get_eda_config()\n",
    "    eda = EDA(eda_config)\n",
    "    df = eda.get_data()\n",
    "except Exception as e:\n",
    "    raise e"
   ]
  },
  {
   "cell_type": "code",
   "execution_count": 11,
   "metadata": {},
   "outputs": [
    {
     "data": {
      "text/html": [
       "<div>\n",
       "<style scoped>\n",
       "    .dataframe tbody tr th:only-of-type {\n",
       "        vertical-align: middle;\n",
       "    }\n",
       "\n",
       "    .dataframe tbody tr th {\n",
       "        vertical-align: top;\n",
       "    }\n",
       "\n",
       "    .dataframe thead th {\n",
       "        text-align: right;\n",
       "    }\n",
       "</style>\n",
       "<table border=\"1\" class=\"dataframe\">\n",
       "  <thead>\n",
       "    <tr style=\"text-align: right;\">\n",
       "      <th></th>\n",
       "      <th>name</th>\n",
       "      <th>text</th>\n",
       "    </tr>\n",
       "  </thead>\n",
       "  <tbody>\n",
       "    <tr>\n",
       "      <th>0</th>\n",
       "      <td>nova 11 SE</td>\n",
       "      <td>Technology: GSM / CDMA / HSPA / CDMA2000 / LTE...</td>\n",
       "    </tr>\n",
       "    <tr>\n",
       "      <th>1</th>\n",
       "      <td>Mate 60 Pro+</td>\n",
       "      <td>Technology: GSM / CDMA / HSPA / CDMA2000 / LTE...</td>\n",
       "    </tr>\n",
       "    <tr>\n",
       "      <th>2</th>\n",
       "      <td>Mate X5</td>\n",
       "      <td>Technology: GSM / CDMA / HSPA / EVDO / LTE / 5...</td>\n",
       "    </tr>\n",
       "    <tr>\n",
       "      <th>3</th>\n",
       "      <td>Mate 60 Pro</td>\n",
       "      <td>Technology: GSM / CDMA / HSPA / CDMA2000 / LTE...</td>\n",
       "    </tr>\n",
       "    <tr>\n",
       "      <th>4</th>\n",
       "      <td>nova Y91</td>\n",
       "      <td>Technology: GSM / HSPA / LTE 2G bands: GSM 850...</td>\n",
       "    </tr>\n",
       "  </tbody>\n",
       "</table>\n",
       "</div>"
      ],
      "text/plain": [
       "           name                                               text\n",
       "0    nova 11 SE  Technology: GSM / CDMA / HSPA / CDMA2000 / LTE...\n",
       "1  Mate 60 Pro+  Technology: GSM / CDMA / HSPA / CDMA2000 / LTE...\n",
       "2       Mate X5  Technology: GSM / CDMA / HSPA / EVDO / LTE / 5...\n",
       "3   Mate 60 Pro  Technology: GSM / CDMA / HSPA / CDMA2000 / LTE...\n",
       "4      nova Y91  Technology: GSM / HSPA / LTE 2G bands: GSM 850..."
      ]
     },
     "execution_count": 11,
     "metadata": {},
     "output_type": "execute_result"
    }
   ],
   "source": [
    "df.head()"
   ]
  },
  {
   "cell_type": "markdown",
   "metadata": {},
   "source": [
    "#### Data Preprocessing\n"
   ]
  },
  {
   "cell_type": "code",
   "execution_count": 12,
   "metadata": {},
   "outputs": [],
   "source": [
    "def get_bands(text):\n",
    "    try:\n",
    "        pattern = re.compile(r\"4G bands:.*5G bands:|4G bands:.*Speed:\")\n",
    "        bands_4g = re.search(pattern, text)\n",
    "        bands_4g = re.sub(r\"4G bands:|5G bands:|Speed:\", \"\", bands_4g.group()).strip()\n",
    "        bands_4g = \",\".join([char for char in bands_4g.split(\", \")])\n",
    "        return bands_4g\n",
    "    except:\n",
    "        return \"No: 4G Bands\""
   ]
  },
  {
   "cell_type": "code",
   "execution_count": 13,
   "metadata": {},
   "outputs": [],
   "source": [
    "df['4G_bands'] = df.text.apply(lambda x: get_bands(x))"
   ]
  },
  {
   "cell_type": "code",
   "execution_count": 14,
   "metadata": {},
   "outputs": [
    {
     "data": {
      "text/plain": [
       "(3019, 3)"
      ]
     },
     "execution_count": 14,
     "metadata": {},
     "output_type": "execute_result"
    }
   ],
   "source": [
    "df.shape"
   ]
  },
  {
   "cell_type": "code",
   "execution_count": 15,
   "metadata": {},
   "outputs": [
    {
     "data": {
      "text/plain": [
       "name        0\n",
       "text        0\n",
       "4G_bands    0\n",
       "dtype: int64"
      ]
     },
     "execution_count": 15,
     "metadata": {},
     "output_type": "execute_result"
    }
   ],
   "source": [
    "df.isnull().sum()"
   ]
  },
  {
   "cell_type": "code",
   "execution_count": 16,
   "metadata": {},
   "outputs": [],
   "source": [
    "def get_bands_count(text):\n",
    "    if text == \"No: 4G Bands\":\n",
    "        return 0\n",
    "    else:\n",
    "        res = [\n",
    "            re.search(r\"\\d\\d\", x).group() for x in text.split(\",\") if len(x) > 1 and re.search(r\"[0-9][0-9]\", x) != None\n",
    "        ]\n",
    "        res2 = [re.search(r\"\\d\", x).group() for x in text.split(\",\") if len(x) == 1 and re.search(r\"\\d\", x) != None]\n",
    "        res3 = [re.search(r\"LTE\", x).group() for x in text.split(\",\") if len(x) > 1 and re.search(r\"LTE\", x) != None]\n",
    "        res = len(set(res + res2 + res3))\n",
    "        return res"
   ]
  },
  {
   "cell_type": "code",
   "execution_count": 17,
   "metadata": {},
   "outputs": [],
   "source": [
    "df['4G_bands_count'] = df['4G_bands'].apply(lambda x: get_bands_count(x))"
   ]
  },
  {
   "cell_type": "code",
   "execution_count": 18,
   "metadata": {},
   "outputs": [
    {
     "data": {
      "image/png": "[encoded data removed]",
      "text/plain": [
       "<Figure size 800x600 with 1 Axes>"
      ]
     },
     "metadata": {},
     "output_type": "display_data"
    }
   ],
   "source": [
    "df['4G_bands_count'].value_counts()[1:].head(6).plot(\n",
    "    kind=\"bar\", colormap=\"viridis\", figsize=(8, 6), fontsize=\"10\", title=\"4G Bands Distribution Top 5 count wise.\"\n",
    ")\n",
    "plt.xticks(rotation=60)\n",
    "plt.show()"
   ]
  },
  {
   "cell_type": "markdown",
   "metadata": {},
   "source": [
    "- So from above chart:\n",
    "  - we can see that most of the 4G phones have bands between 6 to 12.\n",
    "  - with 10 bands being the most common choice among the all the mobile brands.\n"
   ]
  },
  {
   "cell_type": "code",
   "execution_count": 19,
   "metadata": {},
   "outputs": [],
   "source": [
    "def get_5g_bands(text):\n",
    "    try:\n",
    "        pattern = re.compile(r\"5G bands:.*Speed:\")\n",
    "        bands_5g = re.search(pattern, text)\n",
    "        bands_5g = re.sub(r\"4G bands:|5G bands:|Speed:|SA/NSA\", \"\", bands_5g.group()).strip()\n",
    "        bands_5g = \",\".join([char for char in bands_5g.split(\", \")])\n",
    "        if bands_5g == \"\":\n",
    "            return \"12\"\n",
    "        else:\n",
    "            return bands_5g\n",
    "    except:\n",
    "        return \"No: 5G Bands\""
   ]
  },
  {
   "cell_type": "code",
   "execution_count": 20,
   "metadata": {},
   "outputs": [
    {
     "data": {
      "text/html": [
       "<div>\n",
       "<style scoped>\n",
       "    .dataframe tbody tr th:only-of-type {\n",
       "        vertical-align: middle;\n",
       "    }\n",
       "\n",
       "    .dataframe tbody tr th {\n",
       "        vertical-align: top;\n",
       "    }\n",
       "\n",
       "    .dataframe thead th {\n",
       "        text-align: right;\n",
       "    }\n",
       "</style>\n",
       "<table border=\"1\" class=\"dataframe\">\n",
       "  <thead>\n",
       "    <tr style=\"text-align: right;\">\n",
       "      <th></th>\n",
       "      <th>name</th>\n",
       "      <th>text</th>\n",
       "      <th>4G_bands</th>\n",
       "      <th>4G_bands_count</th>\n",
       "      <th>5G_bands</th>\n",
       "    </tr>\n",
       "  </thead>\n",
       "  <tbody>\n",
       "    <tr>\n",
       "      <th>0</th>\n",
       "      <td>nova 11 SE</td>\n",
       "      <td>Technology: GSM / CDMA / HSPA / CDMA2000 / LTE...</td>\n",
       "      <td>1,3,4,5,8,18,19,26,34,38,39,40,41</td>\n",
       "      <td>13</td>\n",
       "      <td>No: 5G Bands</td>\n",
       "    </tr>\n",
       "    <tr>\n",
       "      <th>1</th>\n",
       "      <td>Mate 60 Pro+</td>\n",
       "      <td>Technology: GSM / CDMA / HSPA / CDMA2000 / LTE...</td>\n",
       "      <td>LTE</td>\n",
       "      <td>1</td>\n",
       "      <td>12</td>\n",
       "    </tr>\n",
       "    <tr>\n",
       "      <th>2</th>\n",
       "      <td>Mate X5</td>\n",
       "      <td>Technology: GSM / CDMA / HSPA / EVDO / LTE / 5...</td>\n",
       "      <td>LTE</td>\n",
       "      <td>1</td>\n",
       "      <td>12</td>\n",
       "    </tr>\n",
       "    <tr>\n",
       "      <th>3</th>\n",
       "      <td>Mate 60 Pro</td>\n",
       "      <td>Technology: GSM / CDMA / HSPA / CDMA2000 / LTE...</td>\n",
       "      <td>LTE</td>\n",
       "      <td>1</td>\n",
       "      <td>12</td>\n",
       "    </tr>\n",
       "    <tr>\n",
       "      <th>4</th>\n",
       "      <td>nova Y91</td>\n",
       "      <td>Technology: GSM / HSPA / LTE 2G bands: GSM 850...</td>\n",
       "      <td>1,2,3,4,5,7,8,13,20,26,28,38,40,41,66</td>\n",
       "      <td>15</td>\n",
       "      <td>No: 5G Bands</td>\n",
       "    </tr>\n",
       "  </tbody>\n",
       "</table>\n",
       "</div>"
      ],
      "text/plain": [
       "           name                                               text  \\\n",
       "0    nova 11 SE  Technology: GSM / CDMA / HSPA / CDMA2000 / LTE...   \n",
       "1  Mate 60 Pro+  Technology: GSM / CDMA / HSPA / CDMA2000 / LTE...   \n",
       "2       Mate X5  Technology: GSM / CDMA / HSPA / EVDO / LTE / 5...   \n",
       "3   Mate 60 Pro  Technology: GSM / CDMA / HSPA / CDMA2000 / LTE...   \n",
       "4      nova Y91  Technology: GSM / HSPA / LTE 2G bands: GSM 850...   \n",
       "\n",
       "                                4G_bands  4G_bands_count      5G_bands  \n",
       "0      1,3,4,5,8,18,19,26,34,38,39,40,41              13  No: 5G Bands  \n",
       "1                                    LTE               1            12  \n",
       "2                                    LTE               1            12  \n",
       "3                                    LTE               1            12  \n",
       "4  1,2,3,4,5,7,8,13,20,26,28,38,40,41,66              15  No: 5G Bands  "
      ]
     },
     "execution_count": 20,
     "metadata": {},
     "output_type": "execute_result"
    }
   ],
   "source": [
    "df['5G_bands'] = df['text'].apply(lambda x: get_5g_bands(x))\n",
    "df.head()"
   ]
  },
  {
   "cell_type": "code",
   "execution_count": 21,
   "metadata": {},
   "outputs": [
    {
     "data": {
      "text/html": [
       "<div>\n",
       "<style scoped>\n",
       "    .dataframe tbody tr th:only-of-type {\n",
       "        vertical-align: middle;\n",
       "    }\n",
       "\n",
       "    .dataframe tbody tr th {\n",
       "        vertical-align: top;\n",
       "    }\n",
       "\n",
       "    .dataframe thead th {\n",
       "        text-align: right;\n",
       "    }\n",
       "</style>\n",
       "<table border=\"1\" class=\"dataframe\">\n",
       "  <thead>\n",
       "    <tr style=\"text-align: right;\">\n",
       "      <th></th>\n",
       "      <th>name</th>\n",
       "      <th>text</th>\n",
       "      <th>4G_bands</th>\n",
       "      <th>4G_bands_count</th>\n",
       "      <th>5G_bands</th>\n",
       "      <th>5G_bands_count</th>\n",
       "    </tr>\n",
       "  </thead>\n",
       "  <tbody>\n",
       "    <tr>\n",
       "      <th>0</th>\n",
       "      <td>nova 11 SE</td>\n",
       "      <td>Technology: GSM / CDMA / HSPA / CDMA2000 / LTE...</td>\n",
       "      <td>1,3,4,5,8,18,19,26,34,38,39,40,41</td>\n",
       "      <td>13</td>\n",
       "      <td>No: 5G Bands</td>\n",
       "      <td>0</td>\n",
       "    </tr>\n",
       "    <tr>\n",
       "      <th>1</th>\n",
       "      <td>Mate 60 Pro+</td>\n",
       "      <td>Technology: GSM / CDMA / HSPA / CDMA2000 / LTE...</td>\n",
       "      <td>LTE</td>\n",
       "      <td>1</td>\n",
       "      <td>12</td>\n",
       "      <td>1</td>\n",
       "    </tr>\n",
       "    <tr>\n",
       "      <th>2</th>\n",
       "      <td>Mate X5</td>\n",
       "      <td>Technology: GSM / CDMA / HSPA / EVDO / LTE / 5...</td>\n",
       "      <td>LTE</td>\n",
       "      <td>1</td>\n",
       "      <td>12</td>\n",
       "      <td>1</td>\n",
       "    </tr>\n",
       "    <tr>\n",
       "      <th>3</th>\n",
       "      <td>Mate 60 Pro</td>\n",
       "      <td>Technology: GSM / CDMA / HSPA / CDMA2000 / LTE...</td>\n",
       "      <td>LTE</td>\n",
       "      <td>1</td>\n",
       "      <td>12</td>\n",
       "      <td>1</td>\n",
       "    </tr>\n",
       "    <tr>\n",
       "      <th>4</th>\n",
       "      <td>nova Y91</td>\n",
       "      <td>Technology: GSM / HSPA / LTE 2G bands: GSM 850...</td>\n",
       "      <td>1,2,3,4,5,7,8,13,20,26,28,38,40,41,66</td>\n",
       "      <td>15</td>\n",
       "      <td>No: 5G Bands</td>\n",
       "      <td>0</td>\n",
       "    </tr>\n",
       "  </tbody>\n",
       "</table>\n",
       "</div>"
      ],
      "text/plain": [
       "           name                                               text  \\\n",
       "0    nova 11 SE  Technology: GSM / CDMA / HSPA / CDMA2000 / LTE...   \n",
       "1  Mate 60 Pro+  Technology: GSM / CDMA / HSPA / CDMA2000 / LTE...   \n",
       "2       Mate X5  Technology: GSM / CDMA / HSPA / EVDO / LTE / 5...   \n",
       "3   Mate 60 Pro  Technology: GSM / CDMA / HSPA / CDMA2000 / LTE...   \n",
       "4      nova Y91  Technology: GSM / HSPA / LTE 2G bands: GSM 850...   \n",
       "\n",
       "                                4G_bands  4G_bands_count      5G_bands  \\\n",
       "0      1,3,4,5,8,18,19,26,34,38,39,40,41              13  No: 5G Bands   \n",
       "1                                    LTE               1            12   \n",
       "2                                    LTE               1            12   \n",
       "3                                    LTE               1            12   \n",
       "4  1,2,3,4,5,7,8,13,20,26,28,38,40,41,66              15  No: 5G Bands   \n",
       "\n",
       "   5G_bands_count  \n",
       "0               0  \n",
       "1               1  \n",
       "2               1  \n",
       "3               1  \n",
       "4               0  "
      ]
     },
     "execution_count": 21,
     "metadata": {},
     "output_type": "execute_result"
    }
   ],
   "source": [
    "df['5G_bands_count'] = df['5G_bands'].apply(lambda x: get_bands_count(x))\n",
    "df.head()"
   ]
  },
  {
   "cell_type": "code",
   "execution_count": 22,
   "metadata": {},
   "outputs": [
    {
     "data": {
      "image/png": "[encoded data removed]",
      "text/plain": [
       "<Figure size 800x600 with 1 Axes>"
      ]
     },
     "metadata": {},
     "output_type": "display_data"
    }
   ],
   "source": [
    "df['5G_bands_count'].value_counts()[1:].head(6).plot(\n",
    "    kind=\"bar\", colormap=\"viridis\", figsize=(8, 6), fontsize=\"10\", title=\"4G Bands Distribution Top 5 count wise.\"\n",
    ")\n",
    "plt.xticks(rotation=60)\n",
    "plt.show()"
   ]
  },
  {
   "cell_type": "markdown",
   "metadata": {},
   "source": [
    "- From above chart analysis:\n",
    "  - most of the 5G phones have bands between 5 to 13.\n",
    "  - with 7 being the most common choice among all the mobile brands.\n"
   ]
  },
  {
   "cell_type": "code",
   "execution_count": 23,
   "metadata": {},
   "outputs": [],
   "source": [
    "def get_announced_date(text):\n",
    "    pattern = re.compile(r\"Announced:.*Status:\")\n",
    "    res = re.search(pattern=pattern, string=text).group()\n",
    "    res = re.sub(\"Announced:|Status:\", \"\", res).strip()\n",
    "    return res"
   ]
  },
  {
   "cell_type": "code",
   "execution_count": 24,
   "metadata": {},
   "outputs": [
    {
     "data": {
      "text/html": [
       "<div>\n",
       "<style scoped>\n",
       "    .dataframe tbody tr th:only-of-type {\n",
       "        vertical-align: middle;\n",
       "    }\n",
       "\n",
       "    .dataframe tbody tr th {\n",
       "        vertical-align: top;\n",
       "    }\n",
       "\n",
       "    .dataframe thead th {\n",
       "        text-align: right;\n",
       "    }\n",
       "</style>\n",
       "<table border=\"1\" class=\"dataframe\">\n",
       "  <thead>\n",
       "    <tr style=\"text-align: right;\">\n",
       "      <th></th>\n",
       "      <th>name</th>\n",
       "      <th>text</th>\n",
       "      <th>4G_bands</th>\n",
       "      <th>4G_bands_count</th>\n",
       "      <th>5G_bands</th>\n",
       "      <th>5G_bands_count</th>\n",
       "      <th>Announced_Date</th>\n",
       "    </tr>\n",
       "  </thead>\n",
       "  <tbody>\n",
       "    <tr>\n",
       "      <th>0</th>\n",
       "      <td>nova 11 SE</td>\n",
       "      <td>Technology: GSM / CDMA / HSPA / CDMA2000 / LTE...</td>\n",
       "      <td>1,3,4,5,8,18,19,26,34,38,39,40,41</td>\n",
       "      <td>13</td>\n",
       "      <td>No: 5G Bands</td>\n",
       "      <td>0</td>\n",
       "      <td>2023, October 31</td>\n",
       "    </tr>\n",
       "    <tr>\n",
       "      <th>1</th>\n",
       "      <td>Mate 60 Pro+</td>\n",
       "      <td>Technology: GSM / CDMA / HSPA / CDMA2000 / LTE...</td>\n",
       "      <td>LTE</td>\n",
       "      <td>1</td>\n",
       "      <td>12</td>\n",
       "      <td>1</td>\n",
       "      <td>2023, September 08</td>\n",
       "    </tr>\n",
       "    <tr>\n",
       "      <th>2</th>\n",
       "      <td>Mate X5</td>\n",
       "      <td>Technology: GSM / CDMA / HSPA / EVDO / LTE / 5...</td>\n",
       "      <td>LTE</td>\n",
       "      <td>1</td>\n",
       "      <td>12</td>\n",
       "      <td>1</td>\n",
       "      <td>2023, September 08</td>\n",
       "    </tr>\n",
       "    <tr>\n",
       "      <th>3</th>\n",
       "      <td>Mate 60 Pro</td>\n",
       "      <td>Technology: GSM / CDMA / HSPA / CDMA2000 / LTE...</td>\n",
       "      <td>LTE</td>\n",
       "      <td>1</td>\n",
       "      <td>12</td>\n",
       "      <td>1</td>\n",
       "      <td>2023, August 29</td>\n",
       "    </tr>\n",
       "    <tr>\n",
       "      <th>4</th>\n",
       "      <td>nova Y91</td>\n",
       "      <td>Technology: GSM / HSPA / LTE 2G bands: GSM 850...</td>\n",
       "      <td>1,2,3,4,5,7,8,13,20,26,28,38,40,41,66</td>\n",
       "      <td>15</td>\n",
       "      <td>No: 5G Bands</td>\n",
       "      <td>0</td>\n",
       "      <td>2023, May 23</td>\n",
       "    </tr>\n",
       "  </tbody>\n",
       "</table>\n",
       "</div>"
      ],
      "text/plain": [
       "           name                                               text  \\\n",
       "0    nova 11 SE  Technology: GSM / CDMA / HSPA / CDMA2000 / LTE...   \n",
       "1  Mate 60 Pro+  Technology: GSM / CDMA / HSPA / CDMA2000 / LTE...   \n",
       "2       Mate X5  Technology: GSM / CDMA / HSPA / EVDO / LTE / 5...   \n",
       "3   Mate 60 Pro  Technology: GSM / CDMA / HSPA / CDMA2000 / LTE...   \n",
       "4      nova Y91  Technology: GSM / HSPA / LTE 2G bands: GSM 850...   \n",
       "\n",
       "                                4G_bands  4G_bands_count      5G_bands  \\\n",
       "0      1,3,4,5,8,18,19,26,34,38,39,40,41              13  No: 5G Bands   \n",
       "1                                    LTE               1            12   \n",
       "2                                    LTE               1            12   \n",
       "3                                    LTE               1            12   \n",
       "4  1,2,3,4,5,7,8,13,20,26,28,38,40,41,66              15  No: 5G Bands   \n",
       "\n",
       "   5G_bands_count      Announced_Date  \n",
       "0               0    2023, October 31  \n",
       "1               1  2023, September 08  \n",
       "2               1  2023, September 08  \n",
       "3               1     2023, August 29  \n",
       "4               0        2023, May 23  "
      ]
     },
     "execution_count": 24,
     "metadata": {},
     "output_type": "execute_result"
    }
   ],
   "source": [
    "df['Announced_Date'] = df['text'].apply(lambda x: get_announced_date(x))\n",
    "df.head()"
   ]
  },
  {
   "cell_type": "code",
   "execution_count": 25,
   "metadata": {},
   "outputs": [],
   "source": [
    "def get_status(string):\n",
    "    pattern = re.compile(r\"Status:.*Dimensions:\")\n",
    "    res = re.search(pattern=pattern, string=string).group()\n",
    "    res = re.sub(\"Status:|Dimensions:\", \"\", res).strip()\n",
    "    return res"
   ]
  },
  {
   "cell_type": "code",
   "execution_count": 26,
   "metadata": {},
   "outputs": [
    {
     "data": {
      "text/html": [
       "<div>\n",
       "<style scoped>\n",
       "    .dataframe tbody tr th:only-of-type {\n",
       "        vertical-align: middle;\n",
       "    }\n",
       "\n",
       "    .dataframe tbody tr th {\n",
       "        vertical-align: top;\n",
       "    }\n",
       "\n",
       "    .dataframe thead th {\n",
       "        text-align: right;\n",
       "    }\n",
       "</style>\n",
       "<table border=\"1\" class=\"dataframe\">\n",
       "  <thead>\n",
       "    <tr style=\"text-align: right;\">\n",
       "      <th></th>\n",
       "      <th>name</th>\n",
       "      <th>text</th>\n",
       "      <th>4G_bands</th>\n",
       "      <th>4G_bands_count</th>\n",
       "      <th>5G_bands</th>\n",
       "      <th>5G_bands_count</th>\n",
       "      <th>Announced_Date</th>\n",
       "      <th>Status</th>\n",
       "    </tr>\n",
       "  </thead>\n",
       "  <tbody>\n",
       "    <tr>\n",
       "      <th>0</th>\n",
       "      <td>nova 11 SE</td>\n",
       "      <td>Technology: GSM / CDMA / HSPA / CDMA2000 / LTE...</td>\n",
       "      <td>1,3,4,5,8,18,19,26,34,38,39,40,41</td>\n",
       "      <td>13</td>\n",
       "      <td>No: 5G Bands</td>\n",
       "      <td>0</td>\n",
       "      <td>2023, October 31</td>\n",
       "      <td>Available. Released 2023, November 03</td>\n",
       "    </tr>\n",
       "    <tr>\n",
       "      <th>1</th>\n",
       "      <td>Mate 60 Pro+</td>\n",
       "      <td>Technology: GSM / CDMA / HSPA / CDMA2000 / LTE...</td>\n",
       "      <td>LTE</td>\n",
       "      <td>1</td>\n",
       "      <td>12</td>\n",
       "      <td>1</td>\n",
       "      <td>2023, September 08</td>\n",
       "      <td>Available. Released 2023, September 27</td>\n",
       "    </tr>\n",
       "    <tr>\n",
       "      <th>2</th>\n",
       "      <td>Mate X5</td>\n",
       "      <td>Technology: GSM / CDMA / HSPA / EVDO / LTE / 5...</td>\n",
       "      <td>LTE</td>\n",
       "      <td>1</td>\n",
       "      <td>12</td>\n",
       "      <td>1</td>\n",
       "      <td>2023, September 08</td>\n",
       "      <td>Available. Released 2023, September 16</td>\n",
       "    </tr>\n",
       "    <tr>\n",
       "      <th>3</th>\n",
       "      <td>Mate 60 Pro</td>\n",
       "      <td>Technology: GSM / CDMA / HSPA / CDMA2000 / LTE...</td>\n",
       "      <td>LTE</td>\n",
       "      <td>1</td>\n",
       "      <td>12</td>\n",
       "      <td>1</td>\n",
       "      <td>2023, August 29</td>\n",
       "      <td>Available. Released 2023, August 29</td>\n",
       "    </tr>\n",
       "    <tr>\n",
       "      <th>4</th>\n",
       "      <td>nova Y91</td>\n",
       "      <td>Technology: GSM / HSPA / LTE 2G bands: GSM 850...</td>\n",
       "      <td>1,2,3,4,5,7,8,13,20,26,28,38,40,41,66</td>\n",
       "      <td>15</td>\n",
       "      <td>No: 5G Bands</td>\n",
       "      <td>0</td>\n",
       "      <td>2023, May 23</td>\n",
       "      <td>Available. Released 2023, June 10</td>\n",
       "    </tr>\n",
       "  </tbody>\n",
       "</table>\n",
       "</div>"
      ],
      "text/plain": [
       "           name                                               text  \\\n",
       "0    nova 11 SE  Technology: GSM / CDMA / HSPA / CDMA2000 / LTE...   \n",
       "1  Mate 60 Pro+  Technology: GSM / CDMA / HSPA / CDMA2000 / LTE...   \n",
       "2       Mate X5  Technology: GSM / CDMA / HSPA / EVDO / LTE / 5...   \n",
       "3   Mate 60 Pro  Technology: GSM / CDMA / HSPA / CDMA2000 / LTE...   \n",
       "4      nova Y91  Technology: GSM / HSPA / LTE 2G bands: GSM 850...   \n",
       "\n",
       "                                4G_bands  4G_bands_count      5G_bands  \\\n",
       "0      1,3,4,5,8,18,19,26,34,38,39,40,41              13  No: 5G Bands   \n",
       "1                                    LTE               1            12   \n",
       "2                                    LTE               1            12   \n",
       "3                                    LTE               1            12   \n",
       "4  1,2,3,4,5,7,8,13,20,26,28,38,40,41,66              15  No: 5G Bands   \n",
       "\n",
       "   5G_bands_count      Announced_Date                                  Status  \n",
       "0               0    2023, October 31   Available. Released 2023, November 03  \n",
       "1               1  2023, September 08  Available. Released 2023, September 27  \n",
       "2               1  2023, September 08  Available. Released 2023, September 16  \n",
       "3               1     2023, August 29     Available. Released 2023, August 29  \n",
       "4               0        2023, May 23       Available. Released 2023, June 10  "
      ]
     },
     "execution_count": 26,
     "metadata": {},
     "output_type": "execute_result"
    }
   ],
   "source": [
    "df['Status'] = df['text'].apply(lambda x: get_status(x))\n",
    "df.head()"
   ]
  },
  {
   "cell_type": "code",
   "execution_count": 27,
   "metadata": {},
   "outputs": [],
   "source": [
    "def get_full_dimension(string):\n",
    "    pattern = re.compile(r\"Dimensions:.*Weight:\")\n",
    "    res = re.search(pattern=pattern, string=string).group()\n",
    "    res = re.sub(r\"Dimensions:|Weight:|mm.*|-.*|\", \"\", res).strip()\n",
    "    return res"
   ]
  },
  {
   "cell_type": "code",
   "execution_count": 28,
   "metadata": {},
   "outputs": [
    {
     "data": {
      "text/html": [
       "<div>\n",
       "<style scoped>\n",
       "    .dataframe tbody tr th:only-of-type {\n",
       "        vertical-align: middle;\n",
       "    }\n",
       "\n",
       "    .dataframe tbody tr th {\n",
       "        vertical-align: top;\n",
       "    }\n",
       "\n",
       "    .dataframe thead th {\n",
       "        text-align: right;\n",
       "    }\n",
       "</style>\n",
       "<table border=\"1\" class=\"dataframe\">\n",
       "  <thead>\n",
       "    <tr style=\"text-align: right;\">\n",
       "      <th></th>\n",
       "      <th>name</th>\n",
       "      <th>text</th>\n",
       "      <th>4G_bands</th>\n",
       "      <th>4G_bands_count</th>\n",
       "      <th>5G_bands</th>\n",
       "      <th>5G_bands_count</th>\n",
       "      <th>Announced_Date</th>\n",
       "      <th>Status</th>\n",
       "      <th>Full_Dimension</th>\n",
       "    </tr>\n",
       "  </thead>\n",
       "  <tbody>\n",
       "    <tr>\n",
       "      <th>0</th>\n",
       "      <td>nova 11 SE</td>\n",
       "      <td>Technology: GSM / CDMA / HSPA / CDMA2000 / LTE...</td>\n",
       "      <td>1,3,4,5,8,18,19,26,34,38,39,40,41</td>\n",
       "      <td>13</td>\n",
       "      <td>No: 5G Bands</td>\n",
       "      <td>0</td>\n",
       "      <td>2023, October 31</td>\n",
       "      <td>Available. Released 2023, November 03</td>\n",
       "      <td>162.4 x 75.5 x 7.4</td>\n",
       "    </tr>\n",
       "    <tr>\n",
       "      <th>1</th>\n",
       "      <td>Mate 60 Pro+</td>\n",
       "      <td>Technology: GSM / CDMA / HSPA / CDMA2000 / LTE...</td>\n",
       "      <td>LTE</td>\n",
       "      <td>1</td>\n",
       "      <td>12</td>\n",
       "      <td>1</td>\n",
       "      <td>2023, September 08</td>\n",
       "      <td>Available. Released 2023, September 27</td>\n",
       "      <td>163.7 x 79 x 8.1</td>\n",
       "    </tr>\n",
       "    <tr>\n",
       "      <th>2</th>\n",
       "      <td>Mate X5</td>\n",
       "      <td>Technology: GSM / CDMA / HSPA / EVDO / LTE / 5...</td>\n",
       "      <td>LTE</td>\n",
       "      <td>1</td>\n",
       "      <td>12</td>\n",
       "      <td>1</td>\n",
       "      <td>2023, September 08</td>\n",
       "      <td>Available. Released 2023, September 16</td>\n",
       "      <td>Unfolded: 156.9 x 141.5 x 5.3</td>\n",
       "    </tr>\n",
       "    <tr>\n",
       "      <th>3</th>\n",
       "      <td>Mate 60 Pro</td>\n",
       "      <td>Technology: GSM / CDMA / HSPA / CDMA2000 / LTE...</td>\n",
       "      <td>LTE</td>\n",
       "      <td>1</td>\n",
       "      <td>12</td>\n",
       "      <td>1</td>\n",
       "      <td>2023, August 29</td>\n",
       "      <td>Available. Released 2023, August 29</td>\n",
       "      <td>163.7 x 79 x 8.1</td>\n",
       "    </tr>\n",
       "    <tr>\n",
       "      <th>4</th>\n",
       "      <td>nova Y91</td>\n",
       "      <td>Technology: GSM / HSPA / LTE 2G bands: GSM 850...</td>\n",
       "      <td>1,2,3,4,5,7,8,13,20,26,28,38,40,41,66</td>\n",
       "      <td>15</td>\n",
       "      <td>No: 5G Bands</td>\n",
       "      <td>0</td>\n",
       "      <td>2023, May 23</td>\n",
       "      <td>Available. Released 2023, June 10</td>\n",
       "      <td>171.6 x 79.9 x 8.9</td>\n",
       "    </tr>\n",
       "  </tbody>\n",
       "</table>\n",
       "</div>"
      ],
      "text/plain": [
       "           name                                               text  \\\n",
       "0    nova 11 SE  Technology: GSM / CDMA / HSPA / CDMA2000 / LTE...   \n",
       "1  Mate 60 Pro+  Technology: GSM / CDMA / HSPA / CDMA2000 / LTE...   \n",
       "2       Mate X5  Technology: GSM / CDMA / HSPA / EVDO / LTE / 5...   \n",
       "3   Mate 60 Pro  Technology: GSM / CDMA / HSPA / CDMA2000 / LTE...   \n",
       "4      nova Y91  Technology: GSM / HSPA / LTE 2G bands: GSM 850...   \n",
       "\n",
       "                                4G_bands  4G_bands_count      5G_bands  \\\n",
       "0      1,3,4,5,8,18,19,26,34,38,39,40,41              13  No: 5G Bands   \n",
       "1                                    LTE               1            12   \n",
       "2                                    LTE               1            12   \n",
       "3                                    LTE               1            12   \n",
       "4  1,2,3,4,5,7,8,13,20,26,28,38,40,41,66              15  No: 5G Bands   \n",
       "\n",
       "   5G_bands_count      Announced_Date                                  Status  \\\n",
       "0               0    2023, October 31   Available. Released 2023, November 03   \n",
       "1               1  2023, September 08  Available. Released 2023, September 27   \n",
       "2               1  2023, September 08  Available. Released 2023, September 16   \n",
       "3               1     2023, August 29     Available. Released 2023, August 29   \n",
       "4               0        2023, May 23       Available. Released 2023, June 10   \n",
       "\n",
       "                  Full_Dimension  \n",
       "0             162.4 x 75.5 x 7.4  \n",
       "1               163.7 x 79 x 8.1  \n",
       "2  Unfolded: 156.9 x 141.5 x 5.3  \n",
       "3               163.7 x 79 x 8.1  \n",
       "4             171.6 x 79.9 x 8.9  "
      ]
     },
     "execution_count": 28,
     "metadata": {},
     "output_type": "execute_result"
    }
   ],
   "source": [
    "df['Full_Dimension'] = df['text'].apply(lambda x: get_full_dimension(x))\n",
    "df.head()"
   ]
  },
  {
   "cell_type": "code",
   "execution_count": 29,
   "metadata": {},
   "outputs": [],
   "source": [
    "def get_dimensions(string):\n",
    "    pattern = re.compile(r\"Unfolded: |or.*| \\(15\\.9\")\n",
    "    res = re.sub(pattern, \"\", string).split(\"x\")\n",
    "    res = (\n",
    "        [np.nan, np.nan, np.nan] if len(res) <= 2 or ('' in res) else [np.round(np.float32(x.strip()), 2) for x in res]\n",
    "    )\n",
    "    return pd.Series(res, index=['height', 'width', 'depth'])"
   ]
  },
  {
   "cell_type": "code",
   "execution_count": 30,
   "metadata": {},
   "outputs": [
    {
     "data": {
      "text/html": [
       "<div>\n",
       "<style scoped>\n",
       "    .dataframe tbody tr th:only-of-type {\n",
       "        vertical-align: middle;\n",
       "    }\n",
       "\n",
       "    .dataframe tbody tr th {\n",
       "        vertical-align: top;\n",
       "    }\n",
       "\n",
       "    .dataframe thead th {\n",
       "        text-align: right;\n",
       "    }\n",
       "</style>\n",
       "<table border=\"1\" class=\"dataframe\">\n",
       "  <thead>\n",
       "    <tr style=\"text-align: right;\">\n",
       "      <th></th>\n",
       "      <th>name</th>\n",
       "      <th>text</th>\n",
       "      <th>4G_bands</th>\n",
       "      <th>4G_bands_count</th>\n",
       "      <th>5G_bands</th>\n",
       "      <th>5G_bands_count</th>\n",
       "      <th>Announced_Date</th>\n",
       "      <th>Status</th>\n",
       "      <th>Full_Dimension</th>\n",
       "      <th>height</th>\n",
       "      <th>width</th>\n",
       "      <th>depth</th>\n",
       "    </tr>\n",
       "  </thead>\n",
       "  <tbody>\n",
       "    <tr>\n",
       "      <th>0</th>\n",
       "      <td>nova 11 SE</td>\n",
       "      <td>Technology: GSM / CDMA / HSPA / CDMA2000 / LTE...</td>\n",
       "      <td>1,3,4,5,8,18,19,26,34,38,39,40,41</td>\n",
       "      <td>13</td>\n",
       "      <td>No: 5G Bands</td>\n",
       "      <td>0</td>\n",
       "      <td>2023, October 31</td>\n",
       "      <td>Available. Released 2023, November 03</td>\n",
       "      <td>162.4 x 75.5 x 7.4</td>\n",
       "      <td>162.399994</td>\n",
       "      <td>75.500000</td>\n",
       "      <td>7.4</td>\n",
       "    </tr>\n",
       "    <tr>\n",
       "      <th>1</th>\n",
       "      <td>Mate 60 Pro+</td>\n",
       "      <td>Technology: GSM / CDMA / HSPA / CDMA2000 / LTE...</td>\n",
       "      <td>LTE</td>\n",
       "      <td>1</td>\n",
       "      <td>12</td>\n",
       "      <td>1</td>\n",
       "      <td>2023, September 08</td>\n",
       "      <td>Available. Released 2023, September 27</td>\n",
       "      <td>163.7 x 79 x 8.1</td>\n",
       "      <td>163.699997</td>\n",
       "      <td>79.000000</td>\n",
       "      <td>8.1</td>\n",
       "    </tr>\n",
       "    <tr>\n",
       "      <th>2</th>\n",
       "      <td>Mate X5</td>\n",
       "      <td>Technology: GSM / CDMA / HSPA / EVDO / LTE / 5...</td>\n",
       "      <td>LTE</td>\n",
       "      <td>1</td>\n",
       "      <td>12</td>\n",
       "      <td>1</td>\n",
       "      <td>2023, September 08</td>\n",
       "      <td>Available. Released 2023, September 16</td>\n",
       "      <td>Unfolded: 156.9 x 141.5 x 5.3</td>\n",
       "      <td>156.899994</td>\n",
       "      <td>141.500000</td>\n",
       "      <td>5.3</td>\n",
       "    </tr>\n",
       "    <tr>\n",
       "      <th>3</th>\n",
       "      <td>Mate 60 Pro</td>\n",
       "      <td>Technology: GSM / CDMA / HSPA / CDMA2000 / LTE...</td>\n",
       "      <td>LTE</td>\n",
       "      <td>1</td>\n",
       "      <td>12</td>\n",
       "      <td>1</td>\n",
       "      <td>2023, August 29</td>\n",
       "      <td>Available. Released 2023, August 29</td>\n",
       "      <td>163.7 x 79 x 8.1</td>\n",
       "      <td>163.699997</td>\n",
       "      <td>79.000000</td>\n",
       "      <td>8.1</td>\n",
       "    </tr>\n",
       "    <tr>\n",
       "      <th>4</th>\n",
       "      <td>nova Y91</td>\n",
       "      <td>Technology: GSM / HSPA / LTE 2G bands: GSM 850...</td>\n",
       "      <td>1,2,3,4,5,7,8,13,20,26,28,38,40,41,66</td>\n",
       "      <td>15</td>\n",
       "      <td>No: 5G Bands</td>\n",
       "      <td>0</td>\n",
       "      <td>2023, May 23</td>\n",
       "      <td>Available. Released 2023, June 10</td>\n",
       "      <td>171.6 x 79.9 x 8.9</td>\n",
       "      <td>171.600006</td>\n",
       "      <td>79.900002</td>\n",
       "      <td>8.9</td>\n",
       "    </tr>\n",
       "  </tbody>\n",
       "</table>\n",
       "</div>"
      ],
      "text/plain": [
       "           name                                               text  \\\n",
       "0    nova 11 SE  Technology: GSM / CDMA / HSPA / CDMA2000 / LTE...   \n",
       "1  Mate 60 Pro+  Technology: GSM / CDMA / HSPA / CDMA2000 / LTE...   \n",
       "2       Mate X5  Technology: GSM / CDMA / HSPA / EVDO / LTE / 5...   \n",
       "3   Mate 60 Pro  Technology: GSM / CDMA / HSPA / CDMA2000 / LTE...   \n",
       "4      nova Y91  Technology: GSM / HSPA / LTE 2G bands: GSM 850...   \n",
       "\n",
       "                                4G_bands  4G_bands_count      5G_bands  \\\n",
       "0      1,3,4,5,8,18,19,26,34,38,39,40,41              13  No: 5G Bands   \n",
       "1                                    LTE               1            12   \n",
       "2                                    LTE               1            12   \n",
       "3                                    LTE               1            12   \n",
       "4  1,2,3,4,5,7,8,13,20,26,28,38,40,41,66              15  No: 5G Bands   \n",
       "\n",
       "   5G_bands_count      Announced_Date                                  Status  \\\n",
       "0               0    2023, October 31   Available. Released 2023, November 03   \n",
       "1               1  2023, September 08  Available. Released 2023, September 27   \n",
       "2               1  2023, September 08  Available. Released 2023, September 16   \n",
       "3               1     2023, August 29     Available. Released 2023, August 29   \n",
       "4               0        2023, May 23       Available. Released 2023, June 10   \n",
       "\n",
       "                  Full_Dimension      height       width  depth  \n",
       "0             162.4 x 75.5 x 7.4  162.399994   75.500000    7.4  \n",
       "1               163.7 x 79 x 8.1  163.699997   79.000000    8.1  \n",
       "2  Unfolded: 156.9 x 141.5 x 5.3  156.899994  141.500000    5.3  \n",
       "3               163.7 x 79 x 8.1  163.699997   79.000000    8.1  \n",
       "4             171.6 x 79.9 x 8.9  171.600006   79.900002    8.9  "
      ]
     },
     "execution_count": 30,
     "metadata": {},
     "output_type": "execute_result"
    }
   ],
   "source": [
    "df[['height', 'width', 'depth']] = df['Full_Dimension'].apply(lambda x: get_dimensions(x))\n",
    "df.head()"
   ]
  },
  {
   "cell_type": "code",
   "execution_count": null,
   "metadata": {},
   "outputs": [],
   "source": []
  }
 ],
 "metadata": {
  "kernelspec": {
   "display_name": "Python 3",
   "language": "python",
   "name": "python3"
  },
  "language_info": {
   "codemirror_mode": {
    "name": "ipython",
    "version": 3
   },
   "file_extension": ".py",
   "mimetype": "text/x-python",
   "name": "python",
   "nbconvert_exporter": "python",
   "pygments_lexer": "ipython3",
   "version": "3.11.5"
  }
 },
 "nbformat": 4,
 "nbformat_minor": 2
}
