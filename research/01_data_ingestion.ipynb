{
  "cells": [
    {
      "cell_type": "code",
      "execution_count": 1,
      "metadata": {},
      "outputs": [],
      "source": [
        "import os"
      ]
    },
    {
      "cell_type": "code",
      "execution_count": 2,
      "metadata": {},
      "outputs": [
        {
          "data": {
            "text/plain": [
              "'d:\\\\Projects\\\\Phone_recommendation_system\\\\research'"
            ]
          },
          "execution_count": 2,
          "metadata": {},
          "output_type": "execute_result"
        }
      ],
      "source": [
        "%pwd"
      ]
    },
    {
      "cell_type": "code",
      "execution_count": 3,
      "metadata": {},
      "outputs": [],
      "source": [
        "os.chdir(\"../\")"
      ]
    },
    {
      "cell_type": "code",
      "execution_count": 4,
      "metadata": {},
      "outputs": [
        {
          "data": {
            "text/plain": [
              "'d:\\\\Projects\\\\Phone_recommendation_system'"
            ]
          },
          "execution_count": 4,
          "metadata": {},
          "output_type": "execute_result"
        }
      ],
      "source": [
        "%pwd"
      ]
    },
    {
      "cell_type": "code",
      "execution_count": 5,
      "metadata": {},
      "outputs": [],
      "source": [
        "from dataclasses import dataclass\n",
        "from pathlib import Path\n",
        "\n",
        "\n",
        "@dataclass(frozen=True)\n",
        "class DataIngestionConfig:\n",
        "    root_dir: Path\n",
        "    source_URL: str\n",
        "    local_data_file: Path"
      ]
    },
    {
      "cell_type": "code",
      "execution_count": 6,
      "metadata": {},
      "outputs": [],
      "source": [
        "from phone_recommender.constants import *\n",
        "from phone_recommender.utils.common import read_yaml, create_directories"
      ]
    },
    {
      "cell_type": "code",
      "execution_count": 7,
      "metadata": {},
      "outputs": [],
      "source": [
        "class ConfigurationManager:\n",
        "    def __init__(self, config_filepath=CONFIG_FILE_PATH, params_filepath=PARAMS_FILE_PATH) -> None:\n",
        "        self.config = read_yaml(config_filepath)\n",
        "        self.params = read_yaml(params_filepath)\n",
        "\n",
        "        create_directories([self.config.artifacts_root])\n",
        "\n",
        "    def get_data_ingestion_config(self) -> DataIngestionConfig:\n",
        "        config = self.config.data_ingestion\n",
        "\n",
        "        create_directories([config.root_dir])\n",
        "\n",
        "        data_ingestion_config = DataIngestionConfig(\n",
        "            root_dir=config.root_dir, source_URL=config.source_URL, local_data_file=config.local_data_file\n",
        "        )\n",
        "\n",
        "        return data_ingestion_config"
      ]
    },
    {
      "cell_type": "code",
      "execution_count": 8,
      "metadata": {},
      "outputs": [],
      "source": [
        "import urllib.request as request\n",
        "from phone_recommender.logging import logger\n",
        "from phone_recommender.utils.common import get_size"
      ]
    },
    {
      "cell_type": "code",
      "execution_count": 9,
      "metadata": {},
      "outputs": [],
      "source": [
        "class DataIngestion:\n",
        "    def __init__(self, config: DataIngestionConfig) -> None:\n",
        "        self.config = config\n",
        "\n",
        "    def download_file(self):\n",
        "        if not os.path.exists(self.config.local_data_file):\n",
        "            filename, headers = request.urlretrieve(url=self.config.source_URL, filename=self.config.local_data_file)\n",
        "            logger.info(f\"{filename} downloaded! with following info: \\n{headers}\")\n",
        "        else:\n",
        "            logger.info(f\"File already exists of size: {get_size(Path(self.config.local_data_file))}\")"
      ]
    },
    {
      "cell_type": "markdown",
      "metadata": {},
      "source": [
        "### Downloading and Saving Data\n"
      ]
    },
    {
      "cell_type": "code",
      "execution_count": 10,
      "metadata": {},
      "outputs": [
        {
          "name": "stdout",
          "output_type": "stream",
          "text": [
            "[2024-01-09 19:59:24,100]: INFO common yaml file: config\\config.yaml loads successfully\n",
            "[2024-01-09 19:59:24,105]: INFO common yaml file: params.yaml loads successfully\n",
            "[2024-01-09 19:59:24,107]: INFO common created directory at : artifacts\n",
            "[2024-01-09 19:59:24,108]: INFO common created directory at : artifacts/data_ingestion\n",
            "[2024-01-09 19:59:24,110]: INFO 3808040347 File already exists of size: ~ 4539 KB\n"
          ]
        }
      ],
      "source": [
        "try:\n",
        "    config = ConfigurationManager()\n",
        "    data_ingestion_config = config.get_data_ingestion_config()\n",
        "    data_ingestion = DataIngestion(data_ingestion_config)\n",
        "    data_ingestion.download_file()\n",
        "except Exception as e:\n",
        "    raise e"
      ]
    },
    {
      "cell_type": "markdown",
      "metadata": {},
      "source": [
        "### Finished\n"
      ]
    }
  ],
  "metadata": {
    "kernelspec": {
      "display_name": "Python 3",
      "language": "python",
      "name": "python3"
    },
    "language_info": {
      "codemirror_mode": {
        "name": "ipython",
        "version": 3
      },
      "file_extension": ".py",
      "mimetype": "text/x-python",
      "name": "python",
      "nbconvert_exporter": "python",
      "pygments_lexer": "ipython3",
      "version": "3.10.13"
    }
  },
  "nbformat": 4,
  "nbformat_minor": 2
}
