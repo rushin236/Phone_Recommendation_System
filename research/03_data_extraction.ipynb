{
 "cells": [
  {
   "cell_type": "code",
   "execution_count": 1,
   "metadata": {},
   "outputs": [],
   "source": [
    "import os"
   ]
  },
  {
   "cell_type": "code",
   "execution_count": 2,
   "metadata": {},
   "outputs": [
    {
     "data": {
      "text/plain": [
       "'d:\\\\Imarticus_Learning\\\\12_Projects\\\\Phone_Recommendation_System\\\\research'"
      ]
     },
     "execution_count": 2,
     "metadata": {},
     "output_type": "execute_result"
    }
   ],
   "source": [
    "%pwd"
   ]
  },
  {
   "cell_type": "code",
   "execution_count": 3,
   "metadata": {},
   "outputs": [],
   "source": [
    "os.chdir(\"../\")"
   ]
  },
  {
   "cell_type": "code",
   "execution_count": 4,
   "metadata": {},
   "outputs": [
    {
     "data": {
      "text/plain": [
       "'d:\\\\Imarticus_Learning\\\\12_Projects\\\\Phone_Recommendation_System'"
      ]
     },
     "execution_count": 4,
     "metadata": {},
     "output_type": "execute_result"
    }
   ],
   "source": [
    "%pwd"
   ]
  },
  {
   "cell_type": "code",
   "execution_count": 5,
   "metadata": {},
   "outputs": [],
   "source": [
    "from dataclasses import dataclass\n",
    "from pathlib import Path\n",
    "\n",
    "\n",
    "@dataclass\n",
    "class DataExtractionConfig:\n",
    "    root_dir: Path\n",
    "    local_data_file: Path\n",
    "    processed_data_file: Path"
   ]
  },
  {
   "cell_type": "code",
   "execution_count": 6,
   "metadata": {},
   "outputs": [],
   "source": [
    "from phone_recommender.constants import *\n",
    "from phone_recommender.utils.common import read_yaml, create_directories"
   ]
  },
  {
   "cell_type": "code",
   "execution_count": 7,
   "metadata": {},
   "outputs": [],
   "source": [
    "class ConfigurationManager:\n",
    "    def __init__(self, config_filepath=CONFIG_FILE_PATH, params_filepath=PARAMS_FILE_PATH) -> None:\n",
    "        self.config = read_yaml(config_filepath)\n",
    "        self.params = read_yaml(params_filepath)\n",
    "\n",
    "    def get_data_extraction_config(self) -> DataExtractionConfig:\n",
    "        config = self.config.data_extraction\n",
    "\n",
    "        create_directories([config.root_dir])\n",
    "\n",
    "        data_extraction_config = DataExtractionConfig(\n",
    "            root_dir=config.root_dir,\n",
    "            local_data_file=config.local_data_file,\n",
    "            processed_data_file=config.processed_data_file,\n",
    "        )\n",
    "\n",
    "        return data_extraction_config"
   ]
  },
  {
   "cell_type": "code",
   "execution_count": 8,
   "metadata": {},
   "outputs": [],
   "source": [
    "import warnings\n",
    "import pandas as pd\n",
    "import numpy as np\n",
    "import re\n",
    "from phone_recommender.logging import logger\n",
    "\n",
    "warnings.filterwarnings('ignore')"
   ]
  },
  {
   "cell_type": "code",
   "execution_count": 9,
   "metadata": {},
   "outputs": [],
   "source": [
    "class DataExtraction:\n",
    "    def __init__(self, config: DataExtractionConfig) -> None:\n",
    "        self.config = config\n",
    "\n",
    "        create_directories([self.config.root_dir])\n",
    "\n",
    "    def get_local_data(self):\n",
    "        local_data_file = self.config.local_data_file\n",
    "        if not os.path.exists(local_data_file):\n",
    "            logger.info(\"No local data file exists please check if data ingestion is complete!\")\n",
    "        else:\n",
    "            df = pd.read_csv(local_data_file)\n",
    "            return df\n",
    "\n",
    "    def save_extracted_data(self, df: pd.DataFrame):\n",
    "        processed_data_file = self.config.processed_data_file\n",
    "        df.to_csv(processed_data_file, index=False)"
   ]
  },
  {
   "cell_type": "code",
   "execution_count": 10,
   "metadata": {},
   "outputs": [
    {
     "name": "stdout",
     "output_type": "stream",
     "text": [
      "[2023-12-07 00:17:27,495: INFO: common: yaml file: config\\config.yaml loads successfully]\n",
      "[2023-12-07 00:17:27,496: INFO: common: yaml file: params.yaml loads successfully]\n",
      "[2023-12-07 00:17:27,498: INFO: common: created directory at : artifacts/data_extraction]\n",
      "[2023-12-07 00:17:27,500: INFO: common: created directory at : artifacts/data_extraction]\n"
     ]
    }
   ],
   "source": [
    "try:\n",
    "    config = ConfigurationManager()\n",
    "    data_extraction_config = config.get_data_extraction_config()\n",
    "    data_extraction = DataExtraction(data_extraction_config)\n",
    "    df = data_extraction.get_local_data()\n",
    "except Exception as e:\n",
    "    raise e"
   ]
  },
  {
   "cell_type": "code",
   "execution_count": 11,
   "metadata": {},
   "outputs": [
    {
     "data": {
      "text/html": [
       "<div>\n",
       "<style scoped>\n",
       "    .dataframe tbody tr th:only-of-type {\n",
       "        vertical-align: middle;\n",
       "    }\n",
       "\n",
       "    .dataframe tbody tr th {\n",
       "        vertical-align: top;\n",
       "    }\n",
       "\n",
       "    .dataframe thead th {\n",
       "        text-align: right;\n",
       "    }\n",
       "</style>\n",
       "<table border=\"1\" class=\"dataframe\">\n",
       "  <thead>\n",
       "    <tr style=\"text-align: right;\">\n",
       "      <th></th>\n",
       "      <th>brand</th>\n",
       "      <th>phone_name</th>\n",
       "      <th>text</th>\n",
       "    </tr>\n",
       "  </thead>\n",
       "  <tbody>\n",
       "    <tr>\n",
       "      <th>0</th>\n",
       "      <td>huawei</td>\n",
       "      <td>nova 11 SE</td>\n",
       "      <td>Network Technology GSM / CDMA / HSPA / CDMA200...</td>\n",
       "    </tr>\n",
       "    <tr>\n",
       "      <th>1</th>\n",
       "      <td>huawei</td>\n",
       "      <td>Mate 60 Pro+</td>\n",
       "      <td>Network Technology GSM / CDMA / HSPA / CDMA200...</td>\n",
       "    </tr>\n",
       "    <tr>\n",
       "      <th>2</th>\n",
       "      <td>huawei</td>\n",
       "      <td>Mate X5</td>\n",
       "      <td>Network Technology GSM / CDMA / HSPA / EVDO / ...</td>\n",
       "    </tr>\n",
       "    <tr>\n",
       "      <th>3</th>\n",
       "      <td>huawei</td>\n",
       "      <td>Mate 60 Pro</td>\n",
       "      <td>Network Technology GSM / CDMA / HSPA / CDMA200...</td>\n",
       "    </tr>\n",
       "    <tr>\n",
       "      <th>4</th>\n",
       "      <td>huawei</td>\n",
       "      <td>nova Y91</td>\n",
       "      <td>Network Technology GSM / HSPA / LTE 2G bands G...</td>\n",
       "    </tr>\n",
       "  </tbody>\n",
       "</table>\n",
       "</div>"
      ],
      "text/plain": [
       "    brand    phone_name                                               text\n",
       "0  huawei    nova 11 SE  Network Technology GSM / CDMA / HSPA / CDMA200...\n",
       "1  huawei  Mate 60 Pro+  Network Technology GSM / CDMA / HSPA / CDMA200...\n",
       "2  huawei       Mate X5  Network Technology GSM / CDMA / HSPA / EVDO / ...\n",
       "3  huawei   Mate 60 Pro  Network Technology GSM / CDMA / HSPA / CDMA200...\n",
       "4  huawei      nova Y91  Network Technology GSM / HSPA / LTE 2G bands G..."
      ]
     },
     "execution_count": 11,
     "metadata": {},
     "output_type": "execute_result"
    }
   ],
   "source": [
    "df.head()"
   ]
  },
  {
   "cell_type": "code",
   "execution_count": 12,
   "metadata": {},
   "outputs": [
    {
     "data": {
      "text/plain": [
       "(3019, 3)"
      ]
     },
     "execution_count": 12,
     "metadata": {},
     "output_type": "execute_result"
    }
   ],
   "source": [
    "df.shape"
   ]
  },
  {
   "cell_type": "markdown",
   "metadata": {},
   "source": [
    "### Data Extraction\n"
   ]
  },
  {
   "cell_type": "code",
   "execution_count": 13,
   "metadata": {},
   "outputs": [],
   "source": [
    "df['text'] = df['text'].str.lower()"
   ]
  },
  {
   "cell_type": "code",
   "execution_count": 14,
   "metadata": {},
   "outputs": [],
   "source": [
    "def get_network(string):\n",
    "    res = re.search(r\"network.*2g bands\", string)\n",
    "    if res is not None:\n",
    "        network = re.sub(r\"network technology|2g bands|\\/|gsm\", \"\", res.group()).strip()\n",
    "        if (\"lte\" in network) or \"5g\" in network or \"4g\" in network:\n",
    "            network = re.sub(r\"cdma|hspa|cdma|cdma2000|evdo|2000|umts\", \"\", network).strip()\n",
    "            # print(network)\n",
    "            return network\n",
    "        else:\n",
    "            # print(\"0\")\n",
    "            return \"0\"\n",
    "    else:\n",
    "        # print(\"0\")\n",
    "        return \"0\""
   ]
  },
  {
   "cell_type": "code",
   "execution_count": 15,
   "metadata": {},
   "outputs": [],
   "source": [
    "df['network'] = df['text'].apply(lambda x: get_network(x))"
   ]
  },
  {
   "cell_type": "code",
   "execution_count": 16,
   "metadata": {},
   "outputs": [
    {
     "data": {
      "text/plain": [
       "(1200, 4)"
      ]
     },
     "execution_count": 16,
     "metadata": {},
     "output_type": "execute_result"
    }
   ],
   "source": [
    "df[df['network'] == \"0\"].shape"
   ]
  },
  {
   "cell_type": "markdown",
   "metadata": {},
   "source": [
    "#### Dropping values with little to no data\n"
   ]
  },
  {
   "cell_type": "code",
   "execution_count": 17,
   "metadata": {},
   "outputs": [
    {
     "data": {
      "text/plain": [
       "(1819, 4)"
      ]
     },
     "execution_count": 17,
     "metadata": {},
     "output_type": "execute_result"
    }
   ],
   "source": [
    "drop_idx = df[df['network'] == \"0\"].index\n",
    "df = df.drop(index=drop_idx)\n",
    "df.shape"
   ]
  },
  {
   "cell_type": "code",
   "execution_count": 18,
   "metadata": {},
   "outputs": [
    {
     "data": {
      "text/plain": [
       "'network technology gsm / cdma / hspa / cdma2000 / lte 2g bands gsm 850 / 900 / 1800 / 1900 - sim 1 & sim 2 cdma 800 3g bands hsdpa 850 / 900 / 1700(aws) / 1900 / 2100 cdma2000 1x 4g bands 1, 3, 4, 5, 8, 18, 19, 26, 34, 38, 39, 40, 41 speed hspa, lte-a launch announced 2023, october 31 status available. released 2023, november 03 body dimensions 162.4 x 75.5 x 7.4 mm (6.39 x 2.97 x 0.29 in) weight 186 g (6.56 oz) sim dual sim (nano-sim, dual stand-by) display type oled, 1b colors, 90hz size 6.67 inches, 107.4 cm2 (~87.6% screen-to-body ratio) resolution 1080 x 2400 pixels, 20:9 ratio (~395 ppi density) platform os harmonyos 4.0 chipset qualcomm snapdragon 680 4g (6 nm) cpu octa-core (4x2.4 ghz cortex-a73 & 4x1.9 ghz cortex-a53) gpu adreno 610 memory card slot no internal 256gb, 512gb main camera triple 108 mp, f/1.9, (wide), 1/1.67\", 0.64µm, pdaf\\n8 mp, f/2.2, 112˚ (ultrawide)\\n2 mp, f/2.4, (macro) features led flash, hdr, panorama video 1080p@30fps selfie camera single 32 mp, f/2.5, (wide) video 1080p@30fps sound loudspeaker yes 3.5mm jack no comms wlan wi-fi 802.11 a/b/g/n/ac, dual-band bluetooth 5.0, a2dp, le positioning gps, glonass, galileo, bds, qzss nfc yes radio no usb usb type-c 2.0 features sensors fingerprint (side-mounted), accelerometer, gyro, proximity, compass battery type li-po 4500 mah, non-removable charging 66w wired, 100% in 32 min (advertised)\\n5w reverse wired misc colors green, white, black models bon-al00 price about 260 eur '"
      ]
     },
     "execution_count": 18,
     "metadata": {},
     "output_type": "execute_result"
    }
   ],
   "source": [
    "df['text'][0]"
   ]
  },
  {
   "cell_type": "markdown",
   "metadata": {},
   "source": [
    "#### Getting 4G Data\n"
   ]
  },
  {
   "cell_type": "code",
   "execution_count": 19,
   "metadata": {},
   "outputs": [],
   "source": [
    "def get_4g_bands(text):\n",
    "    pattern = re.compile(r\"4g bands.*speed|4g bands.*5g\")\n",
    "    bands_4g = re.search(pattern, text)\n",
    "    if bands_4g is not None:\n",
    "        bands = re.sub(r\"4g bands|speed|5g bands.*|\", \"\", bands_4g.group()).strip()\n",
    "        if \"lte\" not in bands:\n",
    "            bands = re.findall(r\"\\d,|\\d\\d,\", bands)\n",
    "            if len(bands) not in [0, 1]:\n",
    "                bands = \" \".join(bands)\n",
    "                bands = re.sub(\",\", \"\", bands)\n",
    "                bands = \" \".join([str(x) for x in sorted(([int(x) for x in set(bands.split())]))])\n",
    "                # print(bands)\n",
    "                return bands\n",
    "            else:\n",
    "                # print(\"1\")\n",
    "                return \"1\"\n",
    "        else:\n",
    "            # print(\"1\")\n",
    "            return \"1\""
   ]
  },
  {
   "cell_type": "code",
   "execution_count": 20,
   "metadata": {},
   "outputs": [],
   "source": [
    "df['4g_bands'] = df['text'].apply(lambda x: get_4g_bands(x))"
   ]
  },
  {
   "cell_type": "code",
   "execution_count": 21,
   "metadata": {},
   "outputs": [],
   "source": [
    "def get_bands_count(text):\n",
    "    if text not in [\"1\", \"0\"]:\n",
    "        band_count = len(text.split())\n",
    "        # print(band_count)\n",
    "        return band_count\n",
    "    elif text == \"1\":\n",
    "        # print(1)\n",
    "        return 1\n",
    "    else:\n",
    "        return 0"
   ]
  },
  {
   "cell_type": "code",
   "execution_count": 22,
   "metadata": {},
   "outputs": [],
   "source": [
    "df['4g_band_count'] = df['4g_bands'].apply(lambda x: get_bands_count(x))"
   ]
  },
  {
   "cell_type": "markdown",
   "metadata": {},
   "source": [
    "#### Getting 5G Data\n"
   ]
  },
  {
   "cell_type": "code",
   "execution_count": 23,
   "metadata": {},
   "outputs": [],
   "source": [
    "def get_5g_bands(text):\n",
    "    res = re.search(r\"5g bands.*speed|5g bands.*announced\", text)\n",
    "    if res is not None:\n",
    "        bands = re.sub(\"5g bands|speed\", \"\", res.group()).strip()\n",
    "        bands = re.sub(r\"sa/nsa|sa/nsa/sub6\", \"1,\", bands).strip()\n",
    "        bands = re.findall(r\"\\d,|\\d\\d,|\\d\\d\\d,\", bands)\n",
    "        if len(bands) not in [0, 1]:\n",
    "            bands = \" \".join(bands)\n",
    "            bands = re.sub(\",\", \"\", bands)\n",
    "            bands = \" \".join([str(x) for x in sorted(([int(x) for x in set(bands.split())]))])\n",
    "            # print(bands)\n",
    "            return bands\n",
    "        else:\n",
    "            # print(\"1\")\n",
    "            return \"1\"\n",
    "    else:\n",
    "        # print(\"0\")\n",
    "        return \"0\""
   ]
  },
  {
   "cell_type": "code",
   "execution_count": 24,
   "metadata": {},
   "outputs": [],
   "source": [
    "df['5g_bands'] = df['text'].apply(lambda x: get_5g_bands(x))"
   ]
  },
  {
   "cell_type": "code",
   "execution_count": 25,
   "metadata": {},
   "outputs": [],
   "source": [
    "df['5g_band_count'] = df['5g_bands'].apply(lambda x: get_bands_count(x))"
   ]
  },
  {
   "cell_type": "markdown",
   "metadata": {},
   "source": [
    "#### Getting released year for phone\n"
   ]
  },
  {
   "cell_type": "code",
   "execution_count": 26,
   "metadata": {},
   "outputs": [],
   "source": [
    "def get_released_year(text):\n",
    "    pattern = re.compile(r\"status.*dimensions\")\n",
    "    res = re.search(pattern=pattern, string=text)\n",
    "    if res is not None:\n",
    "        res = re.sub(r\",|status|dimensions|available. released|body\", \"\", res.group()).strip()\n",
    "        if res not in [\"discontinued\", \"cancelled\"]:\n",
    "            # print(res.split()[0])\n",
    "            return res.split()[0]\n",
    "        else:\n",
    "            # print(res)\n",
    "            return res\n",
    "    else:\n",
    "        # print('0')\n",
    "        return \"no info\""
   ]
  },
  {
   "cell_type": "code",
   "execution_count": 27,
   "metadata": {},
   "outputs": [],
   "source": [
    "df['released_year'] = df['text'].apply(lambda x: get_released_year(x))"
   ]
  },
  {
   "cell_type": "markdown",
   "metadata": {},
   "source": [
    "#### Phone Dimensions like height width and depth\n"
   ]
  },
  {
   "cell_type": "code",
   "execution_count": 28,
   "metadata": {},
   "outputs": [],
   "source": [
    "def get_full_dimension(string):\n",
    "    pattern = re.compile(r\"dimensions.*weight\")\n",
    "    res = re.search(pattern=pattern, string=string).group()\n",
    "    if res is not None:\n",
    "        res = re.sub(r\"dimensions|weight|mm.*|unfolded|or.*|cc|\\(.*|-.*|:|x\", \"\", res).strip()\n",
    "        if len(res.split()) == 3:\n",
    "            # print(res)\n",
    "            return \" \".join(res.split())\n",
    "        else:\n",
    "            # print(\"0 x 0 x 0\")\n",
    "            return \"0 0 0\"\n",
    "    else:\n",
    "        # print(\"0 x 0 x 0\")\n",
    "        return \"0 0 0\""
   ]
  },
  {
   "cell_type": "code",
   "execution_count": 29,
   "metadata": {},
   "outputs": [],
   "source": [
    "df['height_width_depth'] = df['text'].apply(lambda x: get_full_dimension(x))"
   ]
  },
  {
   "cell_type": "code",
   "execution_count": 30,
   "metadata": {},
   "outputs": [],
   "source": [
    "def get_hwd(text):\n",
    "    res = [0.0, 0.0, 0.0] if text == \"0 0 0\" else [round(float(x), 1) for x in text.split()]\n",
    "    return pd.Series(res, index=['height', 'width', 'depth'])"
   ]
  },
  {
   "cell_type": "code",
   "execution_count": 31,
   "metadata": {},
   "outputs": [],
   "source": [
    "df[['height', 'width', 'depth']] = df['height_width_depth'].apply(lambda x: get_hwd(x))"
   ]
  },
  {
   "cell_type": "markdown",
   "metadata": {},
   "source": [
    "#### Weight of the phone\n"
   ]
  },
  {
   "cell_type": "code",
   "execution_count": 32,
   "metadata": {},
   "outputs": [],
   "source": [
    "def get_weight(string):\n",
    "    res = re.search(r\"weight.*sim|weight.*build\", string)\n",
    "    if res is not None:\n",
    "        weight = re.search(r\"\\d\\d\\d g|\\d\\d g\", res.group())\n",
    "        if weight is not None:\n",
    "            weight = re.sub(r\"g\", \"\", weight.group()).strip()\n",
    "            return weight\n",
    "        else:\n",
    "            # print(\"0\")\n",
    "            return \"0\"\n",
    "    else:\n",
    "        # print(\"0\")\n",
    "        return \"0\""
   ]
  },
  {
   "cell_type": "code",
   "execution_count": 33,
   "metadata": {},
   "outputs": [],
   "source": [
    "df['weight'] = df['text'].apply(lambda x: get_weight(x))"
   ]
  },
  {
   "cell_type": "markdown",
   "metadata": {},
   "source": [
    "#### Phone display specifications\n"
   ]
  },
  {
   "cell_type": "code",
   "execution_count": 34,
   "metadata": {},
   "outputs": [],
   "source": [
    "def get_resolution(string):\n",
    "    res = re.search(r\"resolution.*protection|resolution.*os\", string)\n",
    "    if res is not None:\n",
    "        resolution = re.search(r\"resolution.*pixels\", res.group())\n",
    "        ppi = re.search(r\"\\(~.* ppi\", res.group())\n",
    "        if resolution and ppi is not None:\n",
    "            resolution = \" \".join(re.sub(r\",.*|\\(.*|pixels.*|resolution|:|x\", \"\", resolution.group()).strip().split())\n",
    "            ppi = re.sub(r\"\\(~|ppi\", \"\", ppi.group()).strip()\n",
    "            # print([resolution, ppi])\n",
    "            return pd.Series([resolution, ppi], index=['resolution', 'ppi'])\n",
    "        else:\n",
    "            # print([\"0 0\", \"0 ppi\"])\n",
    "            return pd.Series([\"0 0\", \"0\"], index=['resolution', 'ppi'])\n",
    "    else:\n",
    "        # print([\"0 0\", \"0 ppi\"])\n",
    "        return pd.Series([\"0 0\", \"0\"], index=['resolution', 'ppi'])"
   ]
  },
  {
   "cell_type": "code",
   "execution_count": 35,
   "metadata": {},
   "outputs": [],
   "source": [
    "df[['resolution', 'ppi']] = df['text'].apply(lambda x: get_resolution(x))"
   ]
  },
  {
   "cell_type": "code",
   "execution_count": 36,
   "metadata": {},
   "outputs": [],
   "source": [
    "def get_resolution_wh(resolution):\n",
    "    res = resolution.split()\n",
    "    return pd.Series([float(res[0]), float(res[1])], index=['display_width', 'display_height'])"
   ]
  },
  {
   "cell_type": "code",
   "execution_count": 37,
   "metadata": {},
   "outputs": [],
   "source": [
    "df[['display_width', 'display_height']] = df['resolution'].apply(lambda x: get_resolution_wh(x))"
   ]
  },
  {
   "cell_type": "code",
   "execution_count": 38,
   "metadata": {},
   "outputs": [],
   "source": [
    "def get_ppi(ppi):\n",
    "    res = ppi\n",
    "    return float(res)"
   ]
  },
  {
   "cell_type": "code",
   "execution_count": 39,
   "metadata": {},
   "outputs": [],
   "source": [
    "df['display_ppi'] = df['ppi'].apply(lambda x: get_ppi(x))"
   ]
  },
  {
   "cell_type": "code",
   "execution_count": 40,
   "metadata": {},
   "outputs": [],
   "source": [
    "def display_size_str(string):\n",
    "    res = re.search(r\"size.*inches,\", string)\n",
    "    if res is not None:\n",
    "        res = re.sub(r\"size|inches,.*\", \"\", res.group()).strip()\n",
    "        res = str(round(float(res), 1))\n",
    "        # print(res)\n",
    "        return res\n",
    "    else:\n",
    "        # print(\"0\")\n",
    "        return \"0\""
   ]
  },
  {
   "cell_type": "code",
   "execution_count": 41,
   "metadata": {},
   "outputs": [],
   "source": [
    "df['display_size_str'] = df['text'].apply(lambda x: display_size_str(x))"
   ]
  },
  {
   "cell_type": "code",
   "execution_count": 42,
   "metadata": {},
   "outputs": [],
   "source": [
    "def display_size(string):\n",
    "    res = re.search(r\"size.*inches,\", string)\n",
    "    if res is not None:\n",
    "        res = re.sub(r\"size|inches,.*\", \"\", res.group()).strip()\n",
    "        res = round(float(res), 1)\n",
    "        # print(res)\n",
    "        return res\n",
    "    else:\n",
    "        # print(\"0\")\n",
    "        return 0"
   ]
  },
  {
   "cell_type": "code",
   "execution_count": 43,
   "metadata": {},
   "outputs": [],
   "source": [
    "df['display_size'] = df['text'].apply(lambda x: display_size(x))"
   ]
  },
  {
   "cell_type": "code",
   "execution_count": 44,
   "metadata": {},
   "outputs": [],
   "source": [
    "def display_type(text):\n",
    "    res = re.search(r\"display type.*size\", text)\n",
    "    if res is not None:\n",
    "        display_type = re.sub(\n",
    "            r\"display type|size|,|\\(|\\)|2x|international.*|hdr10|\\+|ical|plus|hdr|[0-9bk]{2,4} colors|flexible|dynamic|foldable|[0-9]{3,4} nits|dolby vision|typ|hbm|peak\",\n",
    "            \"\",\n",
    "            res.group(),\n",
    "        ).strip()\n",
    "        display_type = re.sub(r\"amoled\", \"oled\", display_type).strip()\n",
    "        display_type = \" \".join(display_type.split())\n",
    "        # print(display_type)\n",
    "        return display_type\n",
    "    else:\n",
    "        # print(\"no info\")\n",
    "        return \"no info\""
   ]
  },
  {
   "cell_type": "code",
   "execution_count": 45,
   "metadata": {},
   "outputs": [],
   "source": [
    "df['display_type'] = df['text'].apply(lambda x: display_type(x))"
   ]
  },
  {
   "cell_type": "markdown",
   "metadata": {},
   "source": [
    "#### Phone Operating system\n"
   ]
  },
  {
   "cell_type": "code",
   "execution_count": 46,
   "metadata": {},
   "outputs": [],
   "source": [
    "def get_os(text):\n",
    "    res = re.search(r\"os.*chipset\", text)\n",
    "    if res is not None:\n",
    "        platform = re.sub(r\"os|chipset|oreo|pie|or.*|,.*|\\(.*|\\/.*\", \"\", res.group()).strip()\n",
    "        if platform.split()[0] in [\"5433)hspa\", \"t\"]:\n",
    "            platform = re.sub(r\"5433\\)hspa 42\\.2\\/5\\.76 mbps|t.*\", \"0\", platform)\n",
    "        # platform = re.sub(r\"5433)hspa 42.2/5.76 mbps\", \"0\", platform).strip()\n",
    "        # print(platform)\n",
    "        return \"\".join(platform.split())\n",
    "    else:\n",
    "        # print(\"0\")\n",
    "        return \"0\""
   ]
  },
  {
   "cell_type": "code",
   "execution_count": 47,
   "metadata": {},
   "outputs": [],
   "source": [
    "df['os'] = df['text'].apply(lambda x: get_os(x))"
   ]
  },
  {
   "cell_type": "markdown",
   "metadata": {},
   "source": [
    "#### Phone Chipset / Processor\n"
   ]
  },
  {
   "cell_type": "code",
   "execution_count": 48,
   "metadata": {},
   "outputs": [],
   "source": [
    "def get_chipset(text):\n",
    "    res = re.search(r\"chipset.*\", text)\n",
    "    if res is not None:\n",
    "        chipset = re.search(\n",
    "            r\"kirin [0-9a-z]{2,5}|snapdragon [0-9+gens ]{2,8}|dimensity [0-9]{2,5}|exynos [0-9]{2,4}|helio [0-9pgax]{1,4}\",\n",
    "            res.group(),\n",
    "        )\n",
    "        if chipset is not None:\n",
    "            chipset = re.sub(r\" 5g| 4g\", \"\", chipset.group())\n",
    "            # print(chipset)\n",
    "            return \"\".join(chipset.split())\n",
    "        else:\n",
    "            # print(\"0\")\n",
    "            return \"0\"\n",
    "    else:\n",
    "        # print(\"0\")\n",
    "        return \"0\""
   ]
  },
  {
   "cell_type": "code",
   "execution_count": 49,
   "metadata": {},
   "outputs": [],
   "source": [
    "df['chipset'] = df['text'].apply(lambda x: get_chipset(x))"
   ]
  },
  {
   "cell_type": "markdown",
   "metadata": {},
   "source": [
    "#### Phone Ram and Storage\n"
   ]
  },
  {
   "cell_type": "code",
   "execution_count": 50,
   "metadata": {},
   "outputs": [],
   "source": [
    "def get_memory(text):\n",
    "    res = re.search(r\"memory.*main camera\", text)\n",
    "    if res is not None:\n",
    "        memory = re.sub(\n",
    "            r\"memory card slot no|memory card slot nm|main camera|umcp|\\(at&t, t-mobile\\)|\\([0-9.]{1,3}gb user available\\),|\",\n",
    "            \"\",\n",
    "            res.group(),\n",
    "        ).strip()\n",
    "        memory_stg = re.search(r\"internal.*\", memory)\n",
    "        if memory_stg is not None:\n",
    "            memory_stg = re.sub(r\"internal\", \"\", memory_stg.group()).strip()\n",
    "            memory_ram = re.findall(r\"\\dgb ram|\\d\\dgb ram\", memory_stg)\n",
    "            memory_stg = \" \".join(re.sub(r\"\\dgb ram|\\d\\dgb ram|,\", \"\", memory_stg).strip().split())\n",
    "            if len(memory_ram) != 0:\n",
    "                memory_ram = [re.sub(\"ram\", \"\", \"\".join(x.split())) for x in memory_ram]\n",
    "                memory_ram = \" \".join(sorted(set(memory_ram)))\n",
    "                # print(memory_ram, memory_stg)\n",
    "                return pd.Series([memory_ram, memory_stg], index=['ram', 'storage'])\n",
    "            else:\n",
    "                # print(\"0\")\n",
    "                return pd.Series([\"0\", \"0\"], index=['ram', 'storage'])\n",
    "\n",
    "        else:\n",
    "            # print(\"0\")\n",
    "            return pd.Series([\"0\", \"0\"], index=['ram', 'storage'])\n",
    "    else:\n",
    "        # print('0')\n",
    "        return pd.Series([\"0\", \"0\"], index=['ram', 'storage'])"
   ]
  },
  {
   "cell_type": "code",
   "execution_count": 51,
   "metadata": {},
   "outputs": [],
   "source": [
    "df[['ram', 'storage']] = df['text'].apply(lambda x: get_memory(x))"
   ]
  },
  {
   "cell_type": "markdown",
   "metadata": {},
   "source": [
    "#### Back camera\n"
   ]
  },
  {
   "cell_type": "code",
   "execution_count": 52,
   "metadata": {},
   "outputs": [],
   "source": [
    "def get_main_camera(text):\n",
    "    res = re.search(r\"main camera.*\", text)\n",
    "    if res is not None:\n",
    "        main_camera = re.sub(\n",
    "            r\"main camera|selfie.*|,|\\/|\\(|\\)|\\\"|triple|dual|single|feature|video|quad\", \"\", res.group()\n",
    "        ).strip()\n",
    "        main_camera = re.search(r\"\\d mp|\\d\\d mp|\\d\\d\\d mp\", main_camera)\n",
    "        if main_camera is not None:\n",
    "            # print(main_camera.group())\n",
    "            return \"\".join(main_camera.group().strip().split())\n",
    "        else:\n",
    "            # print(\"0\")\n",
    "            return \"0\"\n",
    "    else:\n",
    "        # print('0')\n",
    "        return '0'"
   ]
  },
  {
   "cell_type": "code",
   "execution_count": 53,
   "metadata": {},
   "outputs": [],
   "source": [
    "df['main_camera'] = df['text'].apply(lambda x: get_main_camera(x))"
   ]
  },
  {
   "cell_type": "markdown",
   "metadata": {},
   "source": [
    "#### Front camera\n"
   ]
  },
  {
   "cell_type": "code",
   "execution_count": 54,
   "metadata": {},
   "outputs": [],
   "source": [
    "def get_selfie_camera(text):\n",
    "    res = re.search(r\"selfie camera.*\", text)\n",
    "    if res is not None:\n",
    "        selfie_camera = \" \".join(\n",
    "            re.sub(r\"sound.*|selfie camera|single|dual|\\/|\\(|\\)|\\\"|,|-|video\", \"\", res.group()).strip().split()\n",
    "        )\n",
    "        selfie_camera = re.search(r\"\\d mp|\\d\\d mp|\\d\\d\\d mp\", selfie_camera)\n",
    "        if selfie_camera is not None:\n",
    "            # print(selfie_camera.group())\n",
    "            return \"\".join(selfie_camera.group().strip().split())\n",
    "        else:\n",
    "            # print(\"0\")\n",
    "            return \"0\"\n",
    "    else:\n",
    "        # print(\"0\")\n",
    "        return \"0\""
   ]
  },
  {
   "cell_type": "code",
   "execution_count": 55,
   "metadata": {},
   "outputs": [],
   "source": [
    "df['selfie_camera'] = df['text'].apply(lambda x: get_selfie_camera(x))"
   ]
  },
  {
   "cell_type": "markdown",
   "metadata": {},
   "source": [
    "#### Bluetooth Info\n"
   ]
  },
  {
   "cell_type": "code",
   "execution_count": 56,
   "metadata": {},
   "outputs": [],
   "source": [
    "def get_comms(text):\n",
    "    res = re.search(r\"comms.*\", text)\n",
    "    if res is not None:\n",
    "        comms = re.sub(r\"positioning.*|,|dual-band|comms|wlan|wi-fi|wi-fi direct|a2dp|le\", \"\", res.group()).strip()\n",
    "        bluetooth = re.search(r\"bluetooth [0-9.yesno]{1,4}\", comms)\n",
    "        if bluetooth is not None:\n",
    "            # print(bluetooth.group())\n",
    "            return \"\".join(bluetooth.group().strip().split())\n",
    "        else:\n",
    "            # print(\"0\")\n",
    "            return \"0\"\n",
    "    else:\n",
    "        # print('0')\n",
    "        return '0'"
   ]
  },
  {
   "cell_type": "code",
   "execution_count": 57,
   "metadata": {},
   "outputs": [],
   "source": [
    "df['bluetooth'] = df['text'].apply(lambda x: get_comms(x))"
   ]
  },
  {
   "cell_type": "markdown",
   "metadata": {},
   "source": [
    "#### Battery Size\n"
   ]
  },
  {
   "cell_type": "code",
   "execution_count": 58,
   "metadata": {},
   "outputs": [],
   "source": [
    "def get_battery(text):\n",
    "    battery_mah = re.search(r\"\\d\\d\\d\\d mah\", text)\n",
    "    if battery_mah is not None:\n",
    "        # print(battery_mah.group())\n",
    "        return \"\".join(battery_mah.group().strip().split())\n",
    "    else:\n",
    "        # print(\"0\")\n",
    "        return \"0\""
   ]
  },
  {
   "cell_type": "code",
   "execution_count": 59,
   "metadata": {},
   "outputs": [],
   "source": [
    "df['battery'] = df['text'].apply(lambda x: get_battery(x))"
   ]
  },
  {
   "cell_type": "code",
   "execution_count": 60,
   "metadata": {},
   "outputs": [
    {
     "data": {
      "text/html": [
       "<div>\n",
       "<style scoped>\n",
       "    .dataframe tbody tr th:only-of-type {\n",
       "        vertical-align: middle;\n",
       "    }\n",
       "\n",
       "    .dataframe tbody tr th {\n",
       "        vertical-align: top;\n",
       "    }\n",
       "\n",
       "    .dataframe thead th {\n",
       "        text-align: right;\n",
       "    }\n",
       "</style>\n",
       "<table border=\"1\" class=\"dataframe\">\n",
       "  <thead>\n",
       "    <tr style=\"text-align: right;\">\n",
       "      <th></th>\n",
       "      <th>brand</th>\n",
       "      <th>phone_name</th>\n",
       "      <th>text</th>\n",
       "      <th>network</th>\n",
       "      <th>4g_bands</th>\n",
       "      <th>4g_band_count</th>\n",
       "      <th>5g_bands</th>\n",
       "      <th>5g_band_count</th>\n",
       "      <th>released_year</th>\n",
       "      <th>height_width_depth</th>\n",
       "      <th>...</th>\n",
       "      <th>display_size</th>\n",
       "      <th>display_type</th>\n",
       "      <th>os</th>\n",
       "      <th>chipset</th>\n",
       "      <th>ram</th>\n",
       "      <th>storage</th>\n",
       "      <th>main_camera</th>\n",
       "      <th>selfie_camera</th>\n",
       "      <th>bluetooth</th>\n",
       "      <th>battery</th>\n",
       "    </tr>\n",
       "  </thead>\n",
       "  <tbody>\n",
       "    <tr>\n",
       "      <th>0</th>\n",
       "      <td>huawei</td>\n",
       "      <td>nova 11 SE</td>\n",
       "      <td>network technology gsm / cdma / hspa / cdma200...</td>\n",
       "      <td>lte</td>\n",
       "      <td>1 3 4 5 8 18 19 26 34 38 39 40</td>\n",
       "      <td>12</td>\n",
       "      <td>0</td>\n",
       "      <td>0</td>\n",
       "      <td>2023</td>\n",
       "      <td>162.4 75.5 7.4</td>\n",
       "      <td>...</td>\n",
       "      <td>6.7</td>\n",
       "      <td>oled 90hz</td>\n",
       "      <td>harmony4.0</td>\n",
       "      <td>snapdragon680</td>\n",
       "      <td>0</td>\n",
       "      <td>0</td>\n",
       "      <td>108mp</td>\n",
       "      <td>32mp</td>\n",
       "      <td>bluetooth5.0</td>\n",
       "      <td>4500mah</td>\n",
       "    </tr>\n",
       "    <tr>\n",
       "      <th>1</th>\n",
       "      <td>huawei</td>\n",
       "      <td>Mate 60 Pro+</td>\n",
       "      <td>network technology gsm / cdma / hspa / cdma200...</td>\n",
       "      <td>lte  5g</td>\n",
       "      <td>1</td>\n",
       "      <td>1</td>\n",
       "      <td>1</td>\n",
       "      <td>1</td>\n",
       "      <td>2023</td>\n",
       "      <td>163.7 79 8.1</td>\n",
       "      <td>...</td>\n",
       "      <td>6.8</td>\n",
       "      <td>ltpo oled 120hz</td>\n",
       "      <td>harmony4.0</td>\n",
       "      <td>kirin9000s</td>\n",
       "      <td>16gb</td>\n",
       "      <td>512gb 1tb ufs</td>\n",
       "      <td>48mp</td>\n",
       "      <td>13mp</td>\n",
       "      <td>bluetooth5.2</td>\n",
       "      <td>5000mah</td>\n",
       "    </tr>\n",
       "    <tr>\n",
       "      <th>2</th>\n",
       "      <td>huawei</td>\n",
       "      <td>Mate X5</td>\n",
       "      <td>network technology gsm / cdma / hspa / evdo / ...</td>\n",
       "      <td>lte  5g</td>\n",
       "      <td>1</td>\n",
       "      <td>1</td>\n",
       "      <td>1</td>\n",
       "      <td>1</td>\n",
       "      <td>2023</td>\n",
       "      <td>156.9 141.5 5.3</td>\n",
       "      <td>...</td>\n",
       "      <td>7.8</td>\n",
       "      <td>oled 120hz</td>\n",
       "      <td>harmony4.0</td>\n",
       "      <td>kirin9000s</td>\n",
       "      <td>12gb 16gb</td>\n",
       "      <td>256gb 512gb 512gb 1tb ufs</td>\n",
       "      <td>50mp</td>\n",
       "      <td>8mp</td>\n",
       "      <td>bluetooth5.2</td>\n",
       "      <td>5060mah</td>\n",
       "    </tr>\n",
       "    <tr>\n",
       "      <th>3</th>\n",
       "      <td>huawei</td>\n",
       "      <td>Mate 60 Pro</td>\n",
       "      <td>network technology gsm / cdma / hspa / cdma200...</td>\n",
       "      <td>lte  5g</td>\n",
       "      <td>1</td>\n",
       "      <td>1</td>\n",
       "      <td>1</td>\n",
       "      <td>1</td>\n",
       "      <td>2023</td>\n",
       "      <td>163.7 79 8.1</td>\n",
       "      <td>...</td>\n",
       "      <td>6.8</td>\n",
       "      <td>ltpo oled 120hz</td>\n",
       "      <td>harmony4.0</td>\n",
       "      <td>kirin9000s</td>\n",
       "      <td>12gb</td>\n",
       "      <td>256gb 512gb 1tb ufs</td>\n",
       "      <td>50mp</td>\n",
       "      <td>13mp</td>\n",
       "      <td>bluetooth5.2</td>\n",
       "      <td>5000mah</td>\n",
       "    </tr>\n",
       "    <tr>\n",
       "      <th>4</th>\n",
       "      <td>huawei</td>\n",
       "      <td>nova Y91</td>\n",
       "      <td>network technology gsm / hspa / lte 2g bands g...</td>\n",
       "      <td>lte</td>\n",
       "      <td>1 2 3 4 5 7 8 13 20 26 28 38 40 41</td>\n",
       "      <td>14</td>\n",
       "      <td>0</td>\n",
       "      <td>0</td>\n",
       "      <td>2023</td>\n",
       "      <td>171.6 79.9 8.9</td>\n",
       "      <td>...</td>\n",
       "      <td>7.0</td>\n",
       "      <td>ips lcd 90hz</td>\n",
       "      <td>emui13</td>\n",
       "      <td>snapdragon680</td>\n",
       "      <td>6gb 8gb</td>\n",
       "      <td>128gb 128gb 256gb</td>\n",
       "      <td>50mp</td>\n",
       "      <td>8mp</td>\n",
       "      <td>bluetooth5.0</td>\n",
       "      <td>7000mah</td>\n",
       "    </tr>\n",
       "  </tbody>\n",
       "</table>\n",
       "<p>5 rows × 30 columns</p>\n",
       "</div>"
      ],
      "text/plain": [
       "    brand    phone_name                                               text  \\\n",
       "0  huawei    nova 11 SE  network technology gsm / cdma / hspa / cdma200...   \n",
       "1  huawei  Mate 60 Pro+  network technology gsm / cdma / hspa / cdma200...   \n",
       "2  huawei       Mate X5  network technology gsm / cdma / hspa / evdo / ...   \n",
       "3  huawei   Mate 60 Pro  network technology gsm / cdma / hspa / cdma200...   \n",
       "4  huawei      nova Y91  network technology gsm / hspa / lte 2g bands g...   \n",
       "\n",
       "   network                            4g_bands  4g_band_count 5g_bands  \\\n",
       "0      lte      1 3 4 5 8 18 19 26 34 38 39 40             12        0   \n",
       "1  lte  5g                                   1              1        1   \n",
       "2  lte  5g                                   1              1        1   \n",
       "3  lte  5g                                   1              1        1   \n",
       "4      lte  1 2 3 4 5 7 8 13 20 26 28 38 40 41             14        0   \n",
       "\n",
       "   5g_band_count released_year height_width_depth  ...  display_size  \\\n",
       "0              0          2023     162.4 75.5 7.4  ...           6.7   \n",
       "1              1          2023       163.7 79 8.1  ...           6.8   \n",
       "2              1          2023    156.9 141.5 5.3  ...           7.8   \n",
       "3              1          2023       163.7 79 8.1  ...           6.8   \n",
       "4              0          2023     171.6 79.9 8.9  ...           7.0   \n",
       "\n",
       "      display_type          os        chipset        ram  \\\n",
       "0        oled 90hz  harmony4.0  snapdragon680          0   \n",
       "1  ltpo oled 120hz  harmony4.0     kirin9000s       16gb   \n",
       "2       oled 120hz  harmony4.0     kirin9000s  12gb 16gb   \n",
       "3  ltpo oled 120hz  harmony4.0     kirin9000s       12gb   \n",
       "4     ips lcd 90hz      emui13  snapdragon680    6gb 8gb   \n",
       "\n",
       "                     storage  main_camera  selfie_camera     bluetooth  \\\n",
       "0                          0        108mp           32mp  bluetooth5.0   \n",
       "1              512gb 1tb ufs         48mp           13mp  bluetooth5.2   \n",
       "2  256gb 512gb 512gb 1tb ufs         50mp            8mp  bluetooth5.2   \n",
       "3        256gb 512gb 1tb ufs         50mp           13mp  bluetooth5.2   \n",
       "4          128gb 128gb 256gb         50mp            8mp  bluetooth5.0   \n",
       "\n",
       "   battery  \n",
       "0  4500mah  \n",
       "1  5000mah  \n",
       "2  5060mah  \n",
       "3  5000mah  \n",
       "4  7000mah  \n",
       "\n",
       "[5 rows x 30 columns]"
      ]
     },
     "execution_count": 60,
     "metadata": {},
     "output_type": "execute_result"
    }
   ],
   "source": [
    "df.head()"
   ]
  },
  {
   "cell_type": "code",
   "execution_count": 61,
   "metadata": {},
   "outputs": [],
   "source": [
    "data_extraction.save_extracted_data(df=df)"
   ]
  },
  {
   "cell_type": "code",
   "execution_count": null,
   "metadata": {},
   "outputs": [],
   "source": [
    "df.select_dtypes(include='object').columns"
   ]
  },
  {
   "cell_type": "code",
   "execution_count": null,
   "metadata": {},
   "outputs": [],
   "source": [
    "df1 = df[\n",
    "    [\n",
    "        'brand',\n",
    "        'network',\n",
    "        'released_year',\n",
    "        'resolution',\n",
    "        'display_size_str',\n",
    "        'display_type',\n",
    "        'os',\n",
    "        'chipset',\n",
    "        'ram',\n",
    "        'storage',\n",
    "        'main_camera',\n",
    "        'selfie_camera',\n",
    "        'bluetooth',\n",
    "        'battery',\n",
    "    ]\n",
    "]"
   ]
  },
  {
   "cell_type": "code",
   "execution_count": null,
   "metadata": {},
   "outputs": [],
   "source": [
    "df1['new_text'] = df1.apply(lambda row: \" \".join(map(str, row)), axis=1)"
   ]
  },
  {
   "cell_type": "code",
   "execution_count": null,
   "metadata": {},
   "outputs": [],
   "source": [
    "def remove_extra_space(text):\n",
    "    res = \" \".join(text.split())\n",
    "    return res"
   ]
  },
  {
   "cell_type": "code",
   "execution_count": null,
   "metadata": {},
   "outputs": [],
   "source": [
    "df1['new_text'] = df1['new_text'].apply(lambda x: remove_extra_space(x))"
   ]
  },
  {
   "cell_type": "code",
   "execution_count": null,
   "metadata": {},
   "outputs": [],
   "source": [
    "from sklearn.cluster import KMeans\n",
    "from sklearn.metrics import silhouette_samples\n",
    "from sklearn.feature_extraction.text import CountVectorizer, TfidfVectorizer"
   ]
  },
  {
   "cell_type": "code",
   "execution_count": null,
   "metadata": {},
   "outputs": [],
   "source": [
    "cv = CountVectorizer(stop_words='english')\n",
    "data_cv = cv.fit_transform(df1['new_text'])\n",
    "data_dtm = pd.DataFrame.sparse.from_spmatrix(data_cv, columns=cv.get_feature_names_out())\n",
    "tdm = data_dtm.T"
   ]
  },
  {
   "cell_type": "code",
   "execution_count": null,
   "metadata": {},
   "outputs": [],
   "source": [
    "tdm['freq'] = tdm.sum(axis=1)\n",
    "tdm.reset_index(inplace=True)"
   ]
  },
  {
   "cell_type": "code",
   "execution_count": null,
   "metadata": {},
   "outputs": [],
   "source": [
    "tdm.rename(columns={\"index\": \"words\"}, inplace=True)"
   ]
  },
  {
   "cell_type": "code",
   "execution_count": null,
   "metadata": {},
   "outputs": [],
   "source": [
    "tdm.head()"
   ]
  },
  {
   "cell_type": "code",
   "execution_count": null,
   "metadata": {},
   "outputs": [],
   "source": [
    "tdm1 = tdm[['words', 'freq']]\n",
    "tdm1 = tdm1.sort_values('freq', ascending=False)\n",
    "tdm1.head()"
   ]
  },
  {
   "cell_type": "code",
   "execution_count": null,
   "metadata": {},
   "outputs": [],
   "source": [
    "ssd = []\n",
    "for i in range(1, 10):\n",
    "    Kmeans = KMeans(n_clusters=i, random_state=42)\n",
    "    Kmeans.fit(data_dtm)\n",
    "    scr = Kmeans.score(data_dtm)\n",
    "    ssd.append(scr)"
   ]
  },
  {
   "cell_type": "code",
   "execution_count": null,
   "metadata": {},
   "outputs": [],
   "source": [
    "import matplotlib.pyplot as plt"
   ]
  },
  {
   "cell_type": "code",
   "execution_count": null,
   "metadata": {},
   "outputs": [],
   "source": [
    "plt.figure(figsize=(8, 8))\n",
    "plt.plot(range(1, 10), ssd, \"-*\")\n",
    "plt.show()"
   ]
  },
  {
   "cell_type": "code",
   "execution_count": null,
   "metadata": {},
   "outputs": [],
   "source": [
    "ssd = np.array(ssd)\n",
    "(ssd[:-1] - ssd[1:]) * 100 / ssd[:-1]"
   ]
  },
  {
   "cell_type": "code",
   "execution_count": null,
   "metadata": {},
   "outputs": [],
   "source": [
    "clusters = KMeans(n_clusters=3, random_state=42).fit_predict(data_dtm)"
   ]
  },
  {
   "cell_type": "code",
   "execution_count": null,
   "metadata": {},
   "outputs": [],
   "source": [
    "silhouette_val = silhouette_samples(data_dtm, clusters)\n",
    "sil_df = pd.DataFrame()\n",
    "sil_df['cluster'] = clusters\n",
    "sil_df['score'] = silhouette_val"
   ]
  },
  {
   "cell_type": "code",
   "execution_count": null,
   "metadata": {},
   "outputs": [],
   "source": [
    "error = sil_df[sil_df['score'] < 0]\n",
    "len(error)"
   ]
  },
  {
   "cell_type": "code",
   "execution_count": null,
   "metadata": {},
   "outputs": [],
   "source": [
    "np.sqrt(np.mean(np.square(0 - error['score'])))"
   ]
  },
  {
   "cell_type": "code",
   "execution_count": null,
   "metadata": {},
   "outputs": [],
   "source": [
    "df['class'] = clusters"
   ]
  },
  {
   "cell_type": "code",
   "execution_count": null,
   "metadata": {},
   "outputs": [],
   "source": [
    "import seaborn as sns"
   ]
  },
  {
   "cell_type": "code",
   "execution_count": null,
   "metadata": {},
   "outputs": [],
   "source": [
    "dfc1 = df[df['class'] == 0]\n",
    "dfc2 = df[df['class'] == 1]\n",
    "dfc3 = df[df['class'] == 2]"
   ]
  },
  {
   "cell_type": "code",
   "execution_count": null,
   "metadata": {},
   "outputs": [],
   "source": [
    "plt.figure(figsize=(20, 8))\n",
    "sns.barplot(data=dfc1['chipset'].value_counts(), palette='pastel')\n",
    "plt.xticks(rotation=90)\n",
    "plt.show()"
   ]
  },
  {
   "cell_type": "markdown",
   "metadata": {},
   "source": [
    "- Analysis\n",
    "  - The phones in class 0 are all the old phones or the phones with very less information to know about.\n",
    "  - Most of the chipset in this class belong to old generation before 2018 or even older.\n"
   ]
  },
  {
   "cell_type": "code",
   "execution_count": null,
   "metadata": {},
   "outputs": [],
   "source": [
    "plt.figure(figsize=(20, 8))\n",
    "sns.barplot(data=dfc2['chipset'].value_counts(), palette='pastel')\n",
    "plt.xticks(rotation=90)\n",
    "plt.show()"
   ]
  },
  {
   "cell_type": "code",
   "execution_count": null,
   "metadata": {},
   "outputs": [],
   "source": [
    "plt.figure(figsize=(20, 8))\n",
    "sns.barplot(data=dfc3['chipset'].value_counts(), palette=\"pastel\")\n",
    "plt.xticks(rotation=90)\n",
    "plt.show()"
   ]
  },
  {
   "cell_type": "code",
   "execution_count": null,
   "metadata": {},
   "outputs": [],
   "source": [
    "specs_text = list(df1['new_text'])"
   ]
  },
  {
   "cell_type": "code",
   "execution_count": null,
   "metadata": {},
   "outputs": [],
   "source": [
    "from keras.preprocessing.text import Tokenizer\n",
    "from keras.preprocessing.sequence import pad_sequences\n",
    "from keras.models import Sequential\n",
    "from keras.layers import LSTM, Dense, Embedding\n",
    "from keras.utils import to_categorical\n",
    "from sklearn.model_selection import train_test_split\n",
    "\n",
    "# Initialize the Tokenizer\n",
    "tokenizer = Tokenizer()\n",
    "tokenizer.fit_on_texts(specs_text)\n",
    "\n",
    "# Convert text to sequences of integers\n",
    "sequences = tokenizer.texts_to_sequences(specs_text)\n",
    "\n",
    "# Pad sequences to make them of equal length (required for neural networks)\n",
    "max_sequence_length = max(map(len, sequences))\n",
    "padded_sequences = pad_sequences(sequences, maxlen=max_sequence_length, padding='post')\n",
    "\n",
    "# Vocabulary size\n",
    "vocabulary_size = len(tokenizer.word_index) + 1  # Adding 1 because of reserved 0 index"
   ]
  },
  {
   "cell_type": "code",
   "execution_count": null,
   "metadata": {},
   "outputs": [],
   "source": [
    "X = pd.DataFrame(padded_sequences)\n",
    "X.head()"
   ]
  },
  {
   "cell_type": "code",
   "execution_count": null,
   "metadata": {},
   "outputs": [],
   "source": [
    "y = to_categorical(clusters)"
   ]
  },
  {
   "cell_type": "code",
   "execution_count": null,
   "metadata": {},
   "outputs": [],
   "source": [
    "X_train, X_test, y_train, y_test = train_test_split(X, y, test_size=0.2, random_state=42)"
   ]
  },
  {
   "cell_type": "code",
   "execution_count": null,
   "metadata": {},
   "outputs": [],
   "source": [
    "embedding_dim = 50\n",
    "vocab_size = len(tokenizer.word_index) + 1\n",
    "output_classes = 3"
   ]
  },
  {
   "cell_type": "code",
   "execution_count": null,
   "metadata": {},
   "outputs": [],
   "source": [
    "model = Sequential()\n",
    "model.add(Embedding(input_dim=vocab_size, output_dim=embedding_dim, input_length=X.shape[1]))\n",
    "model.add(LSTM(100))\n",
    "model.add(Dense(output_classes, activation='softmax'))"
   ]
  },
  {
   "cell_type": "code",
   "execution_count": null,
   "metadata": {},
   "outputs": [],
   "source": [
    "# Compile the model\n",
    "model.compile(optimizer='adam', loss='categorical_crossentropy', metrics=['accuracy'])\n",
    "# Model summary\n",
    "print(model.summary())"
   ]
  },
  {
   "cell_type": "code",
   "execution_count": null,
   "metadata": {},
   "outputs": [],
   "source": [
    "# Train the model\n",
    "epochs = 25\n",
    "batch_size = 32\n",
    "model.fit(X_train, y_train, epochs=epochs, batch_size=batch_size, validation_split=0.2)"
   ]
  },
  {
   "cell_type": "code",
   "execution_count": null,
   "metadata": {},
   "outputs": [],
   "source": [
    "accuracy = model.evaluate(X_test, y_test)[1]\n",
    "print(f'\\nTest Accuracy: {accuracy * 100:.2f}%')"
   ]
  },
  {
   "cell_type": "code",
   "execution_count": null,
   "metadata": {},
   "outputs": [],
   "source": [
    "input_user = \"huawei lte 5g 1 1 163.7 79 8.1 225 1260 2720 440 6.8 oled 120hz android12.0 snapdragon888+ 8gbram 128gb 12mp bluetooth5.0 4500mah\""
   ]
  },
  {
   "cell_type": "code",
   "execution_count": null,
   "metadata": {},
   "outputs": [],
   "source": [
    "user_in = tokenizer.texts_to_sequences([input_user])"
   ]
  },
  {
   "cell_type": "code",
   "execution_count": null,
   "metadata": {},
   "outputs": [],
   "source": [
    "user_in = pad_sequences(user_in, maxlen=max_sequence_length, padding=\"post\")"
   ]
  },
  {
   "cell_type": "code",
   "execution_count": null,
   "metadata": {},
   "outputs": [],
   "source": [
    "user_in"
   ]
  },
  {
   "cell_type": "code",
   "execution_count": null,
   "metadata": {},
   "outputs": [],
   "source": [
    "pred = model.predict(user_in)\n",
    "pred"
   ]
  },
  {
   "cell_type": "code",
   "execution_count": null,
   "metadata": {},
   "outputs": [],
   "source": [
    "p = np.argmax(pred, axis=1)\n",
    "p[0]"
   ]
  },
  {
   "cell_type": "code",
   "execution_count": null,
   "metadata": {},
   "outputs": [],
   "source": [
    "user_cv_data = cv.transform([input_user])\n",
    "user_cv_data"
   ]
  },
  {
   "cell_type": "code",
   "execution_count": null,
   "metadata": {},
   "outputs": [],
   "source": [
    "from sklearn.metrics.pairwise import cosine_similarity"
   ]
  },
  {
   "cell_type": "code",
   "execution_count": null,
   "metadata": {},
   "outputs": [],
   "source": [
    "pd.DataFrame(cosine_similarity(data_cv, user_cv_data)).sort_values(0, ascending=False).head().index"
   ]
  },
  {
   "cell_type": "code",
   "execution_count": null,
   "metadata": {},
   "outputs": [],
   "source": []
  }
 ],
 "metadata": {
  "kernelspec": {
   "display_name": "Python 3 (ipykernel)",
   "language": "python",
   "name": "python3"
  },
  "language_info": {
   "codemirror_mode": {
    "name": "ipython",
    "version": 3
   },
   "file_extension": ".py",
   "mimetype": "text/x-python",
   "name": "python",
   "nbconvert_exporter": "python",
   "pygments_lexer": "ipython3",
   "version": "3.11.5"
  }
 },
 "nbformat": 4,
 "nbformat_minor": 4
}
